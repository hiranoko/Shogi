{
 "cells": [
  {
   "cell_type": "code",
   "execution_count": 1,
   "id": "81cecaa5",
   "metadata": {},
   "outputs": [],
   "source": [
    "# modules\n",
    "import os\n",
    "import glob\n",
    "import numpy as np\n",
    "from cshogi import BLACK, Board, CSA, HuffmanCodedPosAndEval, move16\n",
    "from sklearn.model_selection import train_test_split"
   ]
  },
  {
   "cell_type": "code",
   "execution_count": 2,
   "id": "7df325a6",
   "metadata": {},
   "outputs": [],
   "source": [
    "csa_file_list = sorted(glob.glob('../../input/floodgate/2020/*csa'))\n",
    "\n",
    "file_list_train, file_list_test = train_test_split(\n",
    "    csa_file_list, test_size=0.1\n",
    ")"
   ]
  },
  {
   "cell_type": "code",
   "execution_count": 3,
   "id": "e0471251",
   "metadata": {},
   "outputs": [
    {
     "data": {
      "text/plain": [
       "(73070, 65763, 7307)"
      ]
     },
     "execution_count": 3,
     "metadata": {},
     "output_type": "execute_result"
    }
   ],
   "source": [
    "len(csa_file_list), len(file_list_train), len(file_list_test)"
   ]
  },
  {
   "cell_type": "code",
   "execution_count": 4,
   "id": "7b19e13c",
   "metadata": {},
   "outputs": [
    {
     "data": {
      "text/plain": [
       "dtype([('hcp', 'u1', (32,)), ('eval', '<i2'), ('bestMove16', '<i2'), ('gameResult', 'i1'), ('dummy', 'u1')])"
      ]
     },
     "execution_count": 4,
     "metadata": {},
     "output_type": "execute_result"
    }
   ],
   "source": [
    "HuffmanCodedPosAndEval"
   ]
  },
  {
   "cell_type": "code",
   "execution_count": 5,
   "id": "309b0c5e",
   "metadata": {},
   "outputs": [],
   "source": [
    "hcpes = np.zeros(1024, HuffmanCodedPosAndEval)"
   ]
  },
  {
   "cell_type": "code",
   "execution_count": 6,
   "id": "7020158a",
   "metadata": {},
   "outputs": [
    {
     "data": {
      "text/plain": [
       "(array([([0, 0, 0, 0, 0, 0, 0, 0, 0, 0, 0, 0, 0, 0, 0, 0, 0, 0, 0, 0, 0, 0, 0, 0, 0, 0, 0, 0, 0, 0, 0, 0], 0, 0, 0, 0),\n",
       "        ([0, 0, 0, 0, 0, 0, 0, 0, 0, 0, 0, 0, 0, 0, 0, 0, 0, 0, 0, 0, 0, 0, 0, 0, 0, 0, 0, 0, 0, 0, 0, 0], 0, 0, 0, 0),\n",
       "        ([0, 0, 0, 0, 0, 0, 0, 0, 0, 0, 0, 0, 0, 0, 0, 0, 0, 0, 0, 0, 0, 0, 0, 0, 0, 0, 0, 0, 0, 0, 0, 0], 0, 0, 0, 0),\n",
       "        ...,\n",
       "        ([0, 0, 0, 0, 0, 0, 0, 0, 0, 0, 0, 0, 0, 0, 0, 0, 0, 0, 0, 0, 0, 0, 0, 0, 0, 0, 0, 0, 0, 0, 0, 0], 0, 0, 0, 0),\n",
       "        ([0, 0, 0, 0, 0, 0, 0, 0, 0, 0, 0, 0, 0, 0, 0, 0, 0, 0, 0, 0, 0, 0, 0, 0, 0, 0, 0, 0, 0, 0, 0, 0], 0, 0, 0, 0),\n",
       "        ([0, 0, 0, 0, 0, 0, 0, 0, 0, 0, 0, 0, 0, 0, 0, 0, 0, 0, 0, 0, 0, 0, 0, 0, 0, 0, 0, 0, 0, 0, 0, 0], 0, 0, 0, 0)],\n",
       "       dtype=[('hcp', 'u1', (32,)), ('eval', '<i2'), ('bestMove16', '<i2'), ('gameResult', 'i1'), ('dummy', 'u1')]),\n",
       " (1024,))"
      ]
     },
     "execution_count": 6,
     "metadata": {},
     "output_type": "execute_result"
    }
   ],
   "source": [
    "hcpes, hcpes.shape"
   ]
  },
  {
   "cell_type": "code",
   "execution_count": 7,
   "id": "29a7a75b",
   "metadata": {},
   "outputs": [],
   "source": [
    "board = Board()"
   ]
  },
  {
   "cell_type": "code",
   "execution_count": 8,
   "id": "d84b36db",
   "metadata": {},
   "outputs": [
    {
     "data": {
      "image/svg+xml": [
       "<svg xmlns=\"http://www.w3.org/2000/svg\" version=\"1.1\" xmlns:xlink=\"http://www.w3.org/1999/xlink\" width=\"230.0\" height=\"192.0\" viewBox=\"0 0 230 192\"><defs><g id=\"black-pawn\"><text font-family=\"serif\" font-size=\"17\" text-anchor=\"middle\" x=\"10.5\" y=\"16.5\">&#27497;</text></g><g id=\"black-lance\"><text font-family=\"serif\" font-size=\"17\" text-anchor=\"middle\" x=\"10.5\" y=\"16.5\">&#39321;</text></g><g id=\"black-knight\"><text font-family=\"serif\" font-size=\"17\" text-anchor=\"middle\" x=\"10.5\" y=\"16.5\">&#26690;</text></g><g id=\"black-silver\"><text font-family=\"serif\" font-size=\"17\" text-anchor=\"middle\" x=\"10.5\" y=\"16.5\">&#37504;</text></g><g id=\"black-gold\"><text font-family=\"serif\" font-size=\"17\" text-anchor=\"middle\" x=\"10.5\" y=\"16.5\">&#37329;</text></g><g id=\"black-bishop\"><text font-family=\"serif\" font-size=\"17\" text-anchor=\"middle\" x=\"10.5\" y=\"16.5\">&#35282;</text></g><g id=\"black-rook\"><text font-family=\"serif\" font-size=\"17\" text-anchor=\"middle\" x=\"10.5\" y=\"16.5\">&#39131;</text></g><g id=\"black-king\"><text font-family=\"serif\" font-size=\"17\" text-anchor=\"middle\" x=\"10.5\" y=\"16.5\">&#29579;</text></g><g id=\"black-pro-pawn\"><text font-family=\"serif\" font-size=\"17\" text-anchor=\"middle\" x=\"10.5\" y=\"16.5\">&#12392;</text></g><g id=\"black-pro-lance\" transform=\"scale(1.0, 0.5)\"><text font-family=\"serif\" font-size=\"17\" text-anchor=\"middle\" x=\"10.5\" y=\"18\">&#25104;</text><text font-family=\"serif\" font-size=\"17\" text-anchor=\"middle\" x=\"10.5\" y=\"34\">&#39321;</text></g><g id=\"black-pro-knight\" transform=\"scale(1.0, 0.5)\"><text font-family=\"serif\" font-size=\"17\" text-anchor=\"middle\" x=\"10.5\" y=\"18\">&#25104;</text><text font-family=\"serif\" font-size=\"17\" text-anchor=\"middle\" x=\"10.5\" y=\"34\">&#26690;</text></g><g id=\"black-pro-silver\" transform=\"scale(1.0, 0.5)\"><text font-family=\"serif\" font-size=\"17\" text-anchor=\"middle\" x=\"10.5\" y=\"18\">&#25104;</text><text font-family=\"serif\" font-size=\"17\" text-anchor=\"middle\" x=\"10.5\" y=\"34\">&#37504;</text></g><g id=\"black-horse\"><text font-family=\"serif\" font-size=\"17\" text-anchor=\"middle\" x=\"10.5\" y=\"16.5\">&#39340;</text></g><g id=\"black-dragon\"><text font-family=\"serif\" font-size=\"17\" text-anchor=\"middle\" x=\"10.5\" y=\"16.5\">&#40845;</text></g><g id=\"white-pawn\" transform=\"rotate(180)\"><text font-family=\"serif\" font-size=\"17\" text-anchor=\"middle\" x=\"-10.5\" y=\"-3.5\">&#27497;</text></g><g id=\"white-lance\" transform=\"rotate(180)\"><text font-family=\"serif\" font-size=\"17\" text-anchor=\"middle\" x=\"-10.5\" y=\"-3.5\">&#39321;</text></g><g id=\"white-knight\" transform=\"rotate(180)\"><text font-family=\"serif\" font-size=\"17\" text-anchor=\"middle\" x=\"-10.5\" y=\"-3.5\">&#26690;</text></g><g id=\"white-silver\" transform=\"rotate(180)\"><text font-family=\"serif\" font-size=\"17\" text-anchor=\"middle\" x=\"-10.5\" y=\"-3.5\">&#37504;</text></g><g id=\"white-gold\" transform=\"rotate(180)\"><text font-family=\"serif\" font-size=\"17\" text-anchor=\"middle\" x=\"-10.5\" y=\"-3.5\">&#37329;</text></g><g id=\"white-bishop\" transform=\"rotate(180)\"><text font-family=\"serif\" font-size=\"17\" text-anchor=\"middle\" x=\"-10.5\" y=\"-3.5\">&#35282;</text></g><g id=\"white-rook\" transform=\"rotate(180)\"><text font-family=\"serif\" font-size=\"17\" text-anchor=\"middle\" x=\"-10.5\" y=\"-3.5\">&#39131;</text></g><g id=\"white-king\" transform=\"rotate(180)\"><text font-family=\"serif\" font-size=\"17\" text-anchor=\"middle\" x=\"-10.5\" y=\"-3.5\">&#29579;</text></g><g id=\"white-pro-pawn\" transform=\"rotate(180)\"><text font-family=\"serif\" font-size=\"17\" text-anchor=\"middle\" x=\"-10.5\" y=\"-3.5\">&#12392;</text></g><g id=\"white-pro-lance\" transform=\"scale(1.0, 0.5) rotate(180)\"><text font-family=\"serif\" font-size=\"17\" text-anchor=\"middle\" x=\"-10.5\" y=\"-22\">&#25104;</text><text font-family=\"serif\" font-size=\"17\" text-anchor=\"middle\" x=\"-10.5\" y=\"-6\">&#39321;</text></g><g id=\"white-pro-knight\" transform=\"scale(1.0, 0.5) rotate(180)\"><text font-family=\"serif\" font-size=\"17\" text-anchor=\"middle\" x=\"-10.5\" y=\"-22\">&#25104;</text><text font-family=\"serif\" font-size=\"17\" text-anchor=\"middle\" x=\"-10.5\" y=\"-6\">&#26690;</text></g><g id=\"white-pro-silver\" transform=\"scale(1.0, 0.5) rotate(180)\"><text font-family=\"serif\" font-size=\"17\" text-anchor=\"middle\" x=\"-10.5\" y=\"-22\">&#25104;</text><text font-family=\"serif\" font-size=\"17\" text-anchor=\"middle\" x=\"-10.5\" y=\"-6\">&#37504;</text></g><g id=\"white-horse\" transform=\"rotate(180)\"><text font-family=\"serif\" font-size=\"17\" text-anchor=\"middle\" x=\"-10.5\" y=\"-3.5\">&#39340;</text></g><g id=\"white-dragon\" transform=\"rotate(180)\"><text font-family=\"serif\" font-size=\"17\" text-anchor=\"middle\" x=\"-10.5\" y=\"-3.5\">&#40845;</text></g></defs><g stroke=\"black\"><rect x=\"20\" y=\"10\" width=\"181\" height=\"181\" fill=\"none\" stroke-width=\"1.5\" /><line x1=\"20.5\" y1=\"30.5\" x2=\"200.5\" y2=\"30.5\" stroke-width=\"1.0\" /><line x1=\"20.5\" y1=\"50.5\" x2=\"200.5\" y2=\"50.5\" stroke-width=\"1.0\" /><line x1=\"20.5\" y1=\"70.5\" x2=\"200.5\" y2=\"70.5\" stroke-width=\"1.0\" /><line x1=\"20.5\" y1=\"90.5\" x2=\"200.5\" y2=\"90.5\" stroke-width=\"1.0\" /><line x1=\"20.5\" y1=\"110.5\" x2=\"200.5\" y2=\"110.5\" stroke-width=\"1.0\" /><line x1=\"20.5\" y1=\"130.5\" x2=\"200.5\" y2=\"130.5\" stroke-width=\"1.0\" /><line x1=\"20.5\" y1=\"150.5\" x2=\"200.5\" y2=\"150.5\" stroke-width=\"1.0\" /><line x1=\"20.5\" y1=\"170.5\" x2=\"200.5\" y2=\"170.5\" stroke-width=\"1.0\" /><line x1=\"40.5\" y1=\"10.5\" x2=\"40.5\" y2=\"190.5\" stroke-width=\"1.0\" /><line x1=\"60.5\" y1=\"10.5\" x2=\"60.5\" y2=\"190.5\" stroke-width=\"1.0\" /><line x1=\"80.5\" y1=\"10.5\" x2=\"80.5\" y2=\"190.5\" stroke-width=\"1.0\" /><line x1=\"100.5\" y1=\"10.5\" x2=\"100.5\" y2=\"190.5\" stroke-width=\"1.0\" /><line x1=\"120.5\" y1=\"10.5\" x2=\"120.5\" y2=\"190.5\" stroke-width=\"1.0\" /><line x1=\"140.5\" y1=\"10.5\" x2=\"140.5\" y2=\"190.5\" stroke-width=\"1.0\" /><line x1=\"160.5\" y1=\"10.5\" x2=\"160.5\" y2=\"190.5\" stroke-width=\"1.0\" /><line x1=\"180.5\" y1=\"10.5\" x2=\"180.5\" y2=\"190.5\" stroke-width=\"1.0\" /></g><g><text font-family=\"serif\" text-anchor=\"middle\" font-size=\"9\" x=\"30.5\" y=\"8\">9</text><text font-family=\"serif\" text-anchor=\"middle\" font-size=\"9\" x=\"50.5\" y=\"8\">8</text><text font-family=\"serif\" text-anchor=\"middle\" font-size=\"9\" x=\"70.5\" y=\"8\">7</text><text font-family=\"serif\" text-anchor=\"middle\" font-size=\"9\" x=\"90.5\" y=\"8\">6</text><text font-family=\"serif\" text-anchor=\"middle\" font-size=\"9\" x=\"110.5\" y=\"8\">5</text><text font-family=\"serif\" text-anchor=\"middle\" font-size=\"9\" x=\"130.5\" y=\"8\">4</text><text font-family=\"serif\" text-anchor=\"middle\" font-size=\"9\" x=\"150.5\" y=\"8\">3</text><text font-family=\"serif\" text-anchor=\"middle\" font-size=\"9\" x=\"170.5\" y=\"8\">2</text><text font-family=\"serif\" text-anchor=\"middle\" font-size=\"9\" x=\"190.5\" y=\"8\">1</text><text font-family=\"serif\" font-size=\"9\" x=\"203.5\" y=\"23\">&#19968;</text><text font-family=\"serif\" font-size=\"9\" x=\"203.5\" y=\"43\">&#20108;</text><text font-family=\"serif\" font-size=\"9\" x=\"203.5\" y=\"63\">&#19977;</text><text font-family=\"serif\" font-size=\"9\" x=\"203.5\" y=\"83\">&#22235;</text><text font-family=\"serif\" font-size=\"9\" x=\"203.5\" y=\"103\">&#20116;</text><text font-family=\"serif\" font-size=\"9\" x=\"203.5\" y=\"123\">&#20845;</text><text font-family=\"serif\" font-size=\"9\" x=\"203.5\" y=\"143\">&#19971;</text><text font-family=\"serif\" font-size=\"9\" x=\"203.5\" y=\"163\">&#20843;</text><text font-family=\"serif\" font-size=\"9\" x=\"203.5\" y=\"183\">&#20061;</text></g><use xlink:href=\"#white-lance\" x=\"180.5\" y=\"10.5\" /><use xlink:href=\"#white-pawn\" x=\"180.5\" y=\"50.5\" /><use xlink:href=\"#black-pawn\" x=\"180.5\" y=\"130.5\" /><use xlink:href=\"#black-lance\" x=\"180.5\" y=\"170.5\" /><use xlink:href=\"#white-knight\" x=\"160.5\" y=\"10.5\" /><use xlink:href=\"#white-bishop\" x=\"160.5\" y=\"30.5\" /><use xlink:href=\"#white-pawn\" x=\"160.5\" y=\"50.5\" /><use xlink:href=\"#black-pawn\" x=\"160.5\" y=\"130.5\" /><use xlink:href=\"#black-rook\" x=\"160.5\" y=\"150.5\" /><use xlink:href=\"#black-knight\" x=\"160.5\" y=\"170.5\" /><use xlink:href=\"#white-silver\" x=\"140.5\" y=\"10.5\" /><use xlink:href=\"#white-pawn\" x=\"140.5\" y=\"50.5\" /><use xlink:href=\"#black-pawn\" x=\"140.5\" y=\"130.5\" /><use xlink:href=\"#black-silver\" x=\"140.5\" y=\"170.5\" /><use xlink:href=\"#white-gold\" x=\"120.5\" y=\"10.5\" /><use xlink:href=\"#white-pawn\" x=\"120.5\" y=\"50.5\" /><use xlink:href=\"#black-pawn\" x=\"120.5\" y=\"130.5\" /><use xlink:href=\"#black-gold\" x=\"120.5\" y=\"170.5\" /><use xlink:href=\"#white-king\" x=\"100.5\" y=\"10.5\" /><use xlink:href=\"#white-pawn\" x=\"100.5\" y=\"50.5\" /><use xlink:href=\"#black-pawn\" x=\"100.5\" y=\"130.5\" /><use xlink:href=\"#black-king\" x=\"100.5\" y=\"170.5\" /><use xlink:href=\"#white-gold\" x=\"80.5\" y=\"10.5\" /><use xlink:href=\"#white-pawn\" x=\"80.5\" y=\"50.5\" /><use xlink:href=\"#black-pawn\" x=\"80.5\" y=\"130.5\" /><use xlink:href=\"#black-gold\" x=\"80.5\" y=\"170.5\" /><use xlink:href=\"#white-silver\" x=\"60.5\" y=\"10.5\" /><use xlink:href=\"#white-pawn\" x=\"60.5\" y=\"50.5\" /><use xlink:href=\"#black-pawn\" x=\"60.5\" y=\"130.5\" /><use xlink:href=\"#black-silver\" x=\"60.5\" y=\"170.5\" /><use xlink:href=\"#white-knight\" x=\"40.5\" y=\"10.5\" /><use xlink:href=\"#white-rook\" x=\"40.5\" y=\"30.5\" /><use xlink:href=\"#white-pawn\" x=\"40.5\" y=\"50.5\" /><use xlink:href=\"#black-pawn\" x=\"40.5\" y=\"130.5\" /><use xlink:href=\"#black-bishop\" x=\"40.5\" y=\"150.5\" /><use xlink:href=\"#black-knight\" x=\"40.5\" y=\"170.5\" /><use xlink:href=\"#white-lance\" x=\"20.5\" y=\"10.5\" /><use xlink:href=\"#white-pawn\" x=\"20.5\" y=\"50.5\" /><use xlink:href=\"#black-pawn\" x=\"20.5\" y=\"130.5\" /><use xlink:href=\"#black-lance\" x=\"20.5\" y=\"170.5\" /><text font-family=\"serif\" font-size=\"14\" x=\"214\" y=\"176\">&#25163;</text><text font-family=\"serif\" font-size=\"14\" x=\"214\" y=\"162\">&#20808;</text><text font-family=\"serif\" font-size=\"14\" x=\"214\" y=\"148\">&#9751;</text><text font-family=\"serif\" font-size=\"14\" x=\"-16\" y=\"-24\" transform=\"rotate(180)\">&#25163;</text><text font-family=\"serif\" font-size=\"14\" x=\"-16\" y=\"-38\" transform=\"rotate(180)\">&#24460;</text><text font-family=\"serif\" font-size=\"14\" x=\"-16\" y=\"-52\" transform=\"rotate(180)\">&#9750;</text></svg>"
      ],
      "text/plain": [
       "'  9  8  7  6  5  4  3  2  1\n",
       "P1-KY-KE-GI-KI-OU-KI-GI-KE-KY\n",
       "P2 * -HI *  *  *  *  * -KA * \n",
       "P3-FU-FU-FU-FU-FU-FU-FU-FU-FU\n",
       "P4 *  *  *  *  *  *  *  *  * \n",
       "P5 *  *  *  *  *  *  *  *  * \n",
       "P6 *  *  *  *  *  *  *  *  * \n",
       "P7+FU+FU+FU+FU+FU+FU+FU+FU+FU\n",
       "P8 * +KA *  *  *  *  * +HI * \n",
       "P9+KY+KE+GI+KI+OU+KI+GI+KE+KY\n",
       "+"
      ]
     },
     "execution_count": 8,
     "metadata": {},
     "output_type": "execute_result"
    }
   ],
   "source": [
    "board"
   ]
  },
  {
   "cell_type": "code",
   "execution_count": 9,
   "id": "70b77729",
   "metadata": {},
   "outputs": [
    {
     "name": "stdout",
     "output_type": "stream",
     "text": [
      "0 67470 129 129\n",
      "1 73922 84 84 +7776FU -8485FU +2625FU -4132KI +8877KA -3334FU +7988GI -2233KA +7733UM -3233KI +8877GI -7172GI +6978KI -7374FU +3938GI -7273GI +3736FU -7364GI +3837GI -4344FU +3746GI -6152KI +5968OU -5142OU +3635FU -4232OU +3534FU -3334KI +0056KA -5243KI +5674KA\n",
      "2 465597 132 132 -8485FU +2625FU -4132KI +2524FU -2324FU +2824HI -0023FU +2428HI -9394FU +9796FU -3334FU +3938GI -5142OU +7776FU -8586FU +8786FU -8286HI +3736FU -7172GI +3837GI -7374FU +3746GI -8173KE +7675FU -8684HI +7574FU -8474HI +8822UM -3122GI\n",
      "3 74051 59 59 +2625FU -4132KI +9796FU -1314FU +3938GI -8586FU +8786FU -8286HI +0087FU -8682HI +7776FU -7172GI +3736FU -3334FU +3837GI -7374FU +2524FU -2324FU +2824HI -7273GI +2428HI -0023FU +3746GI -7364GI +4645GI -3233KI +6766FU\n",
      "4 67341 123 123 -4132KI +9796FU -7172GI +3938GI -9394FU +4746FU -8586FU +8786FU -8286HI +3847GI -8685HI +0087FU -3334FU +7776FU -2233KA +3736FU -3142GI +2937KE -6364FU +4948KI -7263GI +8833UM -4233GI +6766FU -5142OU +7968GI -7374FU +6867GI -8173KE\n",
      "5 462227 63 63 +9796FU -1314FU +3938GI -7172GI +2524FU -2324FU +2824HI -0023FU +2428HI -3334FU +4746FU -8586FU +8786FU -8286HI +3847GI -8682HI +0087FU -6364FU +4736GI -3142GI +3625GI -4233GI +7776FU -7263GI +1716FU -6354GI\n",
      "6 265497 124 124\n",
      "7 65795 65 65 +9796FU -7172GI +2524FU -2324FU +2824HI -0023FU +2428HI -3334FU +4746FU -7374FU +3847GI -8173KE +4756GI -8586FU +8786FU -8286HI +0087FU -8681HI +7776FU -6364FU +5645GI -0086FU +8786FU -8186HI +0087FU\n",
      "8 67212 159 159\n",
      "9 1115532 55 55 +2824HI -0023FU +2428HI -3334FU +9796FU -7172GI +4746FU -7374FU +3847GI -8173KE +7776FU -8586FU +8786FU -8286HI +0087FU -8681HI +4756GI -5142OU +5645GI -0086FU +8786FU -8186HI +4534GI -7365KE +3423NG -2288UM +7988GI -0027FU +2827HI -6557NK\n",
      "10 1443852 167 167 -0023FU +2428HI -9394FU +9796FU -5142OU +3827GI -3334FU +2736GI -8586FU +8786FU -8286HI +0087FU -8684HI +7776FU -2288UM +7988GI -3122GI +5968OU -7172GI +3645GI -2133KE +4556GI -2324FU +3736FU -7374FU +4938KI -2223GI +0066KA -8483HI\n",
      "11 10379 51 51 +2428HI -3334FU +9796FU -7172GI +4746FU -7374FU +3847GI -8173KE +7776FU -8586FU +8786FU -8286HI +0087FU -8681HI +7675FU -8184HI +7574FU -8474HI +8822UM -3122GI +0056KA -0065KA +5665KA -7365KE +5968OU -0033KA +0066KA -5142OU +4756GI -6364FU +4958KI -0076FU +7988GI\n",
      "12 394768 165 165 -9394FU +9796FU -5142OU +3827GI -3334FU +2736GI -8586FU +8786FU -8286HI +0087FU -8684HI +7776FU -2288UM +7988GI -3122GI +5968OU -7172GI +3645GI -2133KE +4556GI -7374FU +3736FU -0073KA +0046KA -7346KA +4746FU -2324FU +0066KA -8482HI\n",
      "13 68117 47 47 +9796FU -7172GI +4746FU -7374FU +3847GI -8173KE +7776FU -8586FU +8786FU -8286HI +0087FU -8681HI +7675FU -8184HI +7574FU -8474HI +8822UM -3122GI +0056KA -0065KA +5665KA -7365KE +5968OU -0033KA +0066KA -5142OU +4756GI -6364FU +4958KI -0076FU +7988GI\n",
      "14 75597 140 140 -7172GI +4746FU -6364FU +3847GI -7263GI +4736GI -3142GI +7776FU -4233GI +3647GI -8586FU +8786FU -8286HI +3736FU -9394FU +2937KE -1415FU +4948KI -8682HI +0087FU -7374FU +7968GI -8173KE +2829HI -6162KI +5958OU -8281HI +5756FU -5152OU\n",
      "15 269111 55 55 +4746FU -6364FU +3847GI -7263GI +4756GI -6354GI +7776FU -8586FU +8786FU -8286HI +0087FU -8682HI +1716FU -9394FU +4958KI -6152KI +5968OU -5142OU +3736FU -7374FU +2937KE -8173KE +5847KI -5263KI +6858OU -2288UM +7988GI -3122GI +8877GI -2233GI +2829HI -4344FU\n",
      "16 69792 132 132 -6364FU +3847GI -7263GI +4736GI -3142GI +7776FU -4233GI +3647GI -8586FU +8786FU -8286HI +3736FU -9394FU +2937KE -1415FU +4948KI -8682HI +0087FU -7374FU +7968GI -6162KI +2829HI -8173KE +5958OU -8281HI +5756FU -5152OU +4645FU -6354GI\n",
      "17 71600 47 47 +3847GI -7263GI +4756GI -6354GI +7776FU -8586FU +8786FU -8286HI +0087FU -8682HI +1716FU -9394FU +8877KA -2277UM +8977KE -3122GI +7988GI -5142OU +8786FU -2133KE +8887GI -2324FU +5968OU -2223GI +3736FU -6152KI +4948KI -4344FU +2937KE -7374FU\n",
      "18 265377 141 141 -7263GI +4736GI -3142GI +7776FU -4233GI +3647GI -8586FU +8786FU -8286HI +3736FU -9394FU +2937KE -1415FU +4948KI -8682HI +0087FU -7374FU +7968GI -8173KE +2829HI -6162KI +5958OU -8281HI +5756FU -5152OU +4645FU -6354GI +7675FU -5463GI\n",
      "19 269231 47 47 +4756GI -6354GI +7776FU -8586FU +8786FU -8286HI +0087FU -8682HI +8877KA -2277UM +8977KE -3122GI +7988GI -2133KE +8786FU -5142OU +8887GI -2324FU +5968OU -2223GI +1716FU -9394FU +3736FU -6152KI +4948KI -4344FU +2937KE -4231OU +2829HI -3122OU +6879OU -7374FU\n",
      "20 266391 129 129 -3142GI +7776FU -4233GI +3647GI -8586FU +8786FU -8286HI +3736FU -9394FU +2937KE -1415FU +4948KI -8682HI +0087FU -7374FU +7968GI -6162KI +2829HI -8173KE +5958OU -8281HI +5756FU -5152OU +4645FU -6354GI +7675FU -5465GI +7574FU -6574GI\n",
      "21 264476 16 16 +3625GI -4233GI +7776FU -8586FU +8786FU -8286HI +0024FU -2324FU +2524GI -3324GI +2824HI -0023FU +2428HI -2233KA +0087FU -8682HI +0045GI -3388UM +7988GI -0033GI +5968OU -4344FU +4556GI -5142OU +8977KE -7374FU +8786FU -7475FU +7675FU -0076FU +7785KE -8272HI +7887KI -7275HI +0082KA -0084FU +8291UM -8485FU +9181UM -6352GI +0079KY -8586FU\n",
      "22 73275 125 125 -4233GI +3647GI -8586FU +8786FU -8286HI +3736FU -9394FU +2937KE -1415FU +4948KI -8682HI +0087FU -7374FU +7968GI -6162KI +2829HI -8173KE +5958OU -8281HI +5756FU -5152OU +4645FU -6354GI +7675FU -5465GI +7574FU -6574GI +3725KE -3342GI\n",
      "23 265748 6 6 +3625GI -8586FU +8786FU -8286HI +0024FU -2324FU +2524GI -3324GI +2824HI -0023FU +2428HI -2233KA +0087FU -8682HI +0045GI -3388UM +7988GI -0033GI +5968OU -6152KI +8877GI -9394FU +0056KA -0074KA +5674KA -7374FU +0056KA -0065KA +5665KA -6465FU +0056KA -8173KE +4534GI -3334GI +5634KA -0024KA +4958KI\n",
      "24 265121 130 130 -8586FU +8786FU -8286HI +3736FU -9394FU +2937KE -1415FU +4948KI -8682HI +0087FU -7374FU +7968GI -8173KE +2829HI -6162KI +5958OU -8281HI +5756FU -5152OU +4645FU -6354GI +7675FU -5465GI +7574FU -6574GI +3725KE -3342GI +8822UM -3222KI\n",
      "25 74180 2 2 +8786FU -8286HI +3736FU -8682HI +0087FU -6374GI +7968GI -7485GI +6877GI -6152KI +2937KE -3324GI +4948KI -5142OU +2829HI -7374FU +5958OU -8173KE +8997KE -8596GI +7786GI -2288UM +7888KI -0054KA +0055KA -2433GI +5564KA -5263KI +6455KA -3344GI +5566KA -2133KE\n",
      "26 1123012 117 117 -8286HI +3736FU -9394FU +2937KE -1415FU +4948KI -8682HI +0087FU -7374FU +7968GI -6162KI +2829HI -8173KE +5958OU -8281HI +5756FU -5152OU +4645FU -6354GI +7675FU -5465GI +7574FU -6574GI +3725KE -3342GI +8822UM -3222KI +9695FU -2324FU\n",
      "27 1450052 3 3 +3736FU -8682HI +0087FU -6374GI +7968GI -7485GI +6877GI -3324GI +2937KE -6152KI +5958OU -5142OU +4948KI -7374FU +2829HI -8173KE +8897KA -5263KI +8786FU -8594GI +9788KA -4231OU +1716FU -0085FU +9695FU -9483GI +8685FU -7385KE +7786GI -2288UM\n",
      "28 68631 115 115 -9394FU +1716FU -6172KI +3635FU -3435FU +0034FU -3344GI +5756FU -6354GI +7968GI -8682HI +0087FU -7374FU +2937KE -5162OU +4948KI -8173KE +5958OU -8281HI +2829HI -7263KI +6766FU -2213KA +1615FU -3536FU +4736GI -1346KA\n",
      "29 268217 1 1 +0087FU -8682HI +7968GI -7485GI +6877GI -6152KI +2937KE -5141OU +4948KI -9394FU +2829HI -7374FU +5958OU -8173KE +1716FU -5263KI +5756FU -5354FU +4645FU -3342GI +4746GI\n",
      "30 270132 285 285 -7465GI +6877GI -8682HI +0087FU -3324GI +1716FU -9394FU +2937KE -6152KI +4948KI -5142OU +5958OU -4231OU +2829HI -7374FU +5756FU -8173KE +4645FU -5263KI +8879KA -7475FU\n",
      "31 401984 12 12 +0087FU -7485GI +6877GI -3324GI +2937KE -6152KI +5958OU -5142OU +4948KI -7374FU +2829HI -8173KE +8897KA -4231OU +8786FU -8596GI +9788KA -0087FU +8879KA -7365KE +7968KA -6577NK +6877KA -2277UM +7877KI -8788TO +9996KY -8889TO +0073KA -8281HI +0072GI -8141HI +7364UM -8979TO +7263NG\n",
      "32 10437 286 286 -6152KI +1716FU -9394FU +4958KI -7465GI +6877GI -3324GI +5756FU -5141OU +2937KE -4131OU +2829HI -7374FU +5948OU -8173KE +4645FU -4344FU +4544FU -2244KA +0045FU -4422KA +8879KA -5263KI +7946KA -6554GI +7766GI -0044FU +4544FU -0045FU\n",
      "33 269507 24 24 +6877GI -3324GI +2937KE -6152KI +5958OU -5142OU +4948KI -7374FU +2829HI -8173KE +8897KA -4231OU +4756GI -5263KI +8786FU -8594GI +9788KA -3435FU +5647GI -0085FU +9695FU -8586FU +7786GI -2288UM +7888KI -8286HI +0077KA -8682HI +9594FU\n",
      "34 268860 358 358 -3324GI +2937KE -5142OU +4958KI -0086FU +8786FU -8586GI +7786GI -8286HI +0087FU -2288UM +7888KI -8682HI +5968OU -0065GI +0077GI -6152KI +8786FU -9394FU +8887KI -1415FU +6878OU -4231OU +2829HI -4344FU +7768GI\n",
      "35 464549 48 48 +2937KE -3324GI +5958OU -5142OU +4948KI -7374FU +2829HI -8173KE +8897KA -4231OU +4756GI -3435FU +0025FU -2413GI +9764KA -5263KI +6455KA -2255KA +5655GI -5354FU +5564GI -6364KI +0053KA -0042KA +5371UM -8252HI +7161UM -5292HI +6183UM -7365KE +8392UM -9192KY +0081HI -3122OU +8185RY -3536FU +3745KE -0037GI\n",
      "36 198808 339 339 -1415FU +4948KI -3324GI +2829HI -5142OU +5958OU -4231OU +9695FU -5242KI +5756FU -9394FU +9594FU -0096FU +0025FU -2413GI +1716FU -1516FU +1916KY -0014FU +3635FU -3435FU +0033FU\n",
      "37 264716 83 83 +4958KI -5142OU +2829HI -1415FU +5968OU -9394FU +8786FU -8574GI +5756FU -4231OU +7887KI -8193KE +6878OU -5242KI +9695FU -9495FU +0094FU -9385KE +7768GI -2288UM +8788KI -0044KA +0066KA -4466KA +6766FU -3435FU +0051KA -8272HI\n",
      "38 463275 332 332 -1415FU +2829HI -5142OU +5756FU -4231OU +5948OU -5242KI +8897KA -8596GI +9786KA -9685GI +8664KA -9394FU +0025FU -2433GI +4645FU -9495FU +6446KA -9596FU +7675FU -8284HI +8786FU -8586GI +0085FU\n",
      "39 65924 117 117 +5968OU -5142OU +2829HI -4231OU +8786FU -8574GI +7887KI -9394FU +6878OU -8193KE +5756FU -5242KI +9695FU -9495FU +0094FU -9385KE +7768GI -2288UM +8788KI -0044KA +0051KA -8283HI +5162UM -9194KY +6272UM -9596FU +8685FU -9697TO +9997KY -0096FU\n",
      "40 395281 270 270 -5142OU +5948OU -4231OU +5756FU -9394FU +4645FU -5242KI +8879KA -8574GI +7946KA -7463GI +4859OU -7374FU +5968OU -8173KE +7766GI -5354FU +0025FU -2433GI +7675FU -8284HI +7574FU -8474HI +0076FU -7476HI\n",
      "41 528924 136 136 +5968OU -8574GI +8786FU -4231OU +7887KI -9394FU +6878OU -8193KE +5756FU -5242KI +9695FU -9495FU +0094FU -9385KE +7768GI -2288UM +8788KI -0044KA +0051KA -8272HI +4645FU -4422KA +8685FU -4252KI +5124UM -2324FU +8977KE -0086FU +2924HI -0023FU +2429HI -7282HI +0046KE\n",
      "42 529972 353 353 -4231OU +8786FU -8586GI +7786GI -2288UM +7888KI -8286HI +0077KA -8682HI +7711UM -0022GI +1122UM -3122OU +0087FU -7374FU +0027KY -7475FU +0045GI -7576FU +4534GI -0044KA +0066GI -6465FU +4645FU -4433KA +3433GI -2433GI +0046KA -0073KA\n",
      "43 270777 163 163 +8786FU -4231OU +7887KI -9394FU +6878OU -8193KE +5756FU -8281HI +8997KE -0085FU +9785KE -9385KE +8685FU -7485GI +0086FU -8574GI +0026KE -0065KE +2634KE -6577NK +8777KI -2277UM +8877KA -0033FU +0022FU -3334FU +2221TO -3121OU +0025FU -2413GI +0024KE -2324FU +2524FU -0065KE +2423TO\n",
      "44 74436 441 441 -9394FU +7887KI -0085FU +8685FU -8193KE +6878OU -9385KE +7786GI -2288UM +8788KI -4344FU +8887KI -4231OU +7675FU -7465GI +0083FU -8283HI +0061KA -8382HI +0084FU -0088FU +7888OU -0055KA +8898OU -5262KI +6134UM -8284HI +0088FU -9495FU\n",
      "45 75083 167 167 +5756FU -4231OU +7887KI -0085FU +8685FU -8193KE +8584FU -8284HI +0086FU -8481HI +6878OU -5242KI +4645FU -5354FU +9695FU -9495FU +0094FU -9385KE +7768GI -9596FU +8822UM -3122OU +0072KA -8182HI +7254UM -9194KY +0098FU -0033KA +4544FU -3344KA +5444UM -4344FU +0071KA -8292HI +7144UM -0033KA +4433UM -2433GI +8685FU -7485GI +0086FU\n",
      "46 466629 415 415 -0085FU +8685FU -8193KE +8584FU -8284HI +0086FU -8481HI +6878OU -4231OU +5756FU -5242KI +4645FU -5354FU +0025FU -2413GI +3635FU -3435FU +8879KA -0085FU +7935KA -8586FU +8786KI -9385KE +7788GI -9495FU +9695FU -0098FU +9998KY -0097FU\n",
      "47 10435 174 174 +8685FU -8193KE +6878OU -9385KE +7786GI -2288UM +8788KI -0044KA +0066KA -4466KA +6766FU -0044KA +7675FU -7463GI +8887KI -4466KA +0088FU -9495FU +8776KI -6644KA +8685GI -0087FU +7887OU -0084FU +7574FU -6372GI +7473TO -7273GI +0074FU -7362GI +0073KA -6273GI +7473TO -8281HI +8574GI -9596FU +0066FU -0075FU +7677KI -9697TO +9997KY -9197NY +8797OU -0076KY\n",
      "48 1122883 455 455 -8193KE +6878OU -9385KE +7786GI -2288UM +8788KI -7465GI +0083FU -8283HI +0061KA -8384HI +6172UM -6576GI +7273UM -0077FU +7868OU -8481HI +0083FU -0087FU +8898KI -3435FU +8382TO -3536FU +4736GI -8131HI +0035FU -0054KA +3745KE -4344FU\n",
      "49 204746 197 197 +6878OU -9385KE +7786GI -2288UM +8788KI -4344FU +0083FU -8283HI +0061KA -8382HI +0084FU -8284HI +6172UM -0062KA +5756FU -7463GI +8675GI -6372GI +7584GI -7374FU +8483GI -7283GI +0081HI -8372GI +8121RY -7475FU +0026KE -5243KI +8887KI -0088FU +7888OU -0022KA +0025FU -2413GI +2191RY -4445FU +0055KY -5354FU +3635FU -5455FU +2634KE -4334KI +3534FU -5556FU +0055FU -0074KE +3745KE -2255KA +8879OU -0086FU +0054FU -0081KY +5453TO -6253KA +9193RY -0083GI +4553NK -4253OU +0071KA -0062KE +8788KI -8687TO\n",
      "50 531005 477 477 -9385KE +7786GI -2288UM +8788KI -0044KA +0066KA -4466KA +6766FU -0044KA +7675FU -7463GI +8887KI -4466KA +0088FU -6644KA +4756GI -3435FU +5847KI -6354GI +3635FU -2435GI +3745KE -0036FU +7574FU -7374FU +0073KA -8281HI\n",
      "51 1254723 227 227 +7786GI -2288UM +8788KI -4344FU +0083FU -8283HI +0061KA -8382HI +0084FU -8284HI +6172UM -0062KA +5756FU -7463GI +8675GI -6372GI +7584GI -7374FU +8483GI -7283GI +0081HI -8372GI +8121RY -7475FU +0026KE -5243KI +8887KI -0088FU +7888OU -4445FU +2191RY -0022KA +0055KY -5354FU +0025FU -5455FU +2524FU -5556FU +0066GI -2324FU +3745KE -0081KY +0054FU -6465FU +5453TO -6253KA +4553NK -4253OU +2634KE -4334KI +0054FU -5342OU +0053KA -4241OU +5375UM -6566FU +6766FU -0063KE +7565UM -0086FU +8786KI -5657TO +5857KI -0068GI\n",
      "52 269892 490 490 -2288UM +8788KI -0044KA +0066KA -4466KA +6766FU -0044KA +7675FU -7463GI +4756GI -4466KA +5867KI -6644KA +0066FU -3435FU +0025FU -2413GI +2926HI -6354GI +4645FU -4422KA +3635FU -6465FU +6776KI -6566FU +8685GI -6667TO +5667GI -2255KA\n",
      "53 5588294 247 247 +8788KI -4344FU +0083FU -8283HI +0061KA -8382HI +0084FU -8284HI +6172UM -0062KA +5756FU -7463GI +8675GI -6372GI +7584GI -7374FU +8483GI -7283GI +0081HI -8372GI +8121RY -7475FU +0026KE -5243KI +8887KI -0088FU +7888OU -4445FU +2191RY -0022KA +0055KY -5354FU +0025FU -5455FU +2524FU -5556FU +0066GI -2324FU +3745KE -0081KY +0054FU -6465FU +5453TO -6253KA +4553NK -4253OU +2634KE -4334KI +0054FU -5342OU +0053KA -4241OU +5375UM -6566FU +6766FU -0063KE +7565UM -0086FU +8786KI -5657TO +5857KI -0068GI\n",
      "54 14099142 509 509 -7465GI +0083FU -8283HI +0061KA -8384HI +6172UM -6576GI +7273UM -8481HI +0083FU -0077FU +7868OU -0087FU +8898KI -3435FU +8382TO -3536FU +4736GI -8131HI +0035FU -3222KI +8685GI -7685GI +0034KE -4232OU +8272TO -0033FU +7262TO -5262KI\n",
      "55 69278 238 238 +0083FU -8283HI +0061KA -8382HI +0084FU -8284HI +6172UM -0062KA +5756FU -7463GI +8675GI -6372GI +7584GI -7374FU +8483NG -7283GI +0081HI -8372GI +8121RY -7475FU +0026KE -5243KI +8887KI -0088FU +7888OU -4445FU +2191RY -0022KA +0055KY -5354FU +0025FU -5455FU +2524FU -5556FU +0066GI -2324FU +3745KE -0081KY +3635FU -7576FU +8776KI -0065GI +7665KI -6465FU +2634KE -4334KI +3534FU -0076FU +0033GI -4252OU +9181RY -7281GI +3322NG -6566FU +0074KA -0063KE +0053FU -5261OU +7485KA -0087FU +8897OU -0088GI +9798OU -7677TO\n",
      "56 467781 474 474 -4231OU +0055KA -2433GI +4645FU -4445FU +0084FU -5243KI +7675FU -4354KI +5533UM -2133KE +7574FU -4546FU +4746GI -0045FU +7473TO -8242HI +0043FU -4243HI +0052GI -4344HI +0055GI -0065KA +5544GI -5444KI +0041HI\n",
      "57 68246 220 220 +0022FU -3536FU +4736GI -3222KI +0038FU -2232KI +4645FU -2133KE +0025FU -2413GI +4544FU -0054KA +3635GI -0036FU +3534GI -3637TO +3837FU -7465GI +8685GI -8285HI +0086FU -8581HI +0046KE -5463KA +8977KE -6574GI +0055KA -0031KE +5564KA -0062GI +7675FU -7483GI +6455KA -0045FU +4443TO -3143KE +3443GI -5243KI +0044FU\n",
      "58 1117078 702 702 -2435GI +0036FU -0055KA +3635FU -5599UM +0083FU -8283HI +0072KA -8382HI +7261UM -9495FU +0083FU -0024KY +8382TO -2429NY +8291TO -0098HI +0088KY -9596FU +0082HI -7463GI +8285RY -2919NY +8582RY -0085FU +8285RY -6374GI +8582RY -0085FU\n",
      "59 10391 448 448 +4736GI -0038KA +2959HI -3865UM +5756FU -6554UM +5847KI -9495FU +9695FU -7465GI +5655FU -5443UM +0034KA -4334UM +3534FU -0043KA +8685GI -8285HI +0086FU -8581HI +0068KE -9195KY +9995KY -0035FU +3627GI -4334KA +8977KE -6566GI +4645FU -2133KE +6766FU -3345KE +3745KE -3445KA +6856KE -4527UM +5644KE -2745UM +0056KA -4544UM +0046KY -0045FU +4645KY -4445UM +5645KA -0043KY +4581UM -4347NY +0044KE -0058GI +4452NK -4233OU +5929HI -0098KI\n",
      "60 1314967 452 452 -0038KA +2939HI -3865UM +4645FU -6554UM +0022FU -3222KI +5756FU -7465GI +3949HI -6576GI +8776KI -5476UM +0087FU -0088FU +0077FU -7654UM +7888OU -4231OU +0076KA -5476UM +7776FU -0038KA +4946HI -4445FU +3745KE -0044FU +0071KA -4445FU\n",
      "61 10905 546 546 +2959HI -3865UM +5756FU -6554UM +5847KI -7465GI +5655FU -5443UM +0034KA -4334UM +3534FU -9495FU +9695FU -0043KA +8685GI -8285HI +0086FU -8584HI +0068KE -9195KY +9995KY -0085FU +8685FU -8485HI +0086FU -8595HI +0097KY -6576GI +6876KE -9575HI +0077FU -0035FU +0093KA -7565HI +3627GI -0036GI +4756KI -3627NG +5554FU -4354KA +5665KI -5465KA +7664KE -5262KI +0052GI -4231OU +0025FU -0056KY +0057FU -0048GI +5929HI -5657NY +2927HI -2413GI\n",
      "62 395418 447 447 -3865UM +0022FU -6554UM +4645FU -3222KI +5756FU -7465GI +8685GI -8285HI +0086FU -8582HI +0046KE -5463UM +4634KE -4231OU +3422NK -3122OU +3625GI -6354UM +2524GI -2324FU +0023FU -2232OU +0055GI -6576GI +5554GI -7687GI +7887OU -5354FU\n",
      "63 347313 397 397 +0088KA -6554UM +3645GI -4445FU +8811UM -0065GI +0056KY -5443UM +0084FU -6576GI +8776KI -4376UM +0087GI -7643UM +1121UM -8284HI +3745KE -0088FU +0034KE -4241OU +3422NK -0031FU +7888OU -4344UM +0077FU -3222KI +4553KE -4142OU +4645FU -4477UM +8977KE -8577NK +8677GI -2221KI +0085FU -7485GI +0086FU -0075KE +0034KE -4251OU +8685FU -7587NK +8887OU\n",
      "64 69663 429 429 -6554UM +0022FU -3222KI +5756FU -7465GI +8685GI -8285HI +0086FU -8582HI +0046KE -5432UM +4634KE -4231OU +4544FU -0033FU +3422NK -3122OU +0025FU -2413GI +3534FU -3334FU +0033FU -2133KE +0035FU -6576GI +8776KI -3276UM +0077KI -7654UM\n",
      "65 858279 313 313 +0022FU -3222KI +8977KE -8577NK +8677GI -0065KE +7786GI -9495FU +9695FU -5455UM +0066KA -5566UM +6766FU -6557NK +0083FU -8283HI +0084FU -8384HI +0085FU -8482HI +3959HI -0056KA +0067KE -5638UM +5857KI -3837UM +5949HI -3736UM +0034KE -4232OU +4544FU -0042FU +6755KE -0045KE +5746KI -3658UM +4929HI\n",
      "66 10378 432 432 -3222KI +5756FU -7465GI +8685GI -8285HI +0086FU -8582HI +0046KE -5432UM +4634KE -4231OU +4544FU -6576GI +8776KI -3276UM +0077FU -7675UM +0043GI -7539UM +4352GI -8252HI +4443TO -0069GI +7869OU -0049HI +6978OU -4943RY +0044FU -4344RY\n",
      "67 1509770 300 300 +8977KE -8577NK +8677GI -0065KE +7786GI -9495FU +9695FU -5455UM +0066KA -5566UM +6766FU -6557NK +0083FU -8283HI +0084FU -8384HI +0085FU -8482HI +3959HI -0056KA +0067KE -5638UM +5857KI -3837UM +5949HI -3736UM +0034KE -4232OU +4544FU -0042FU +6755KE -0045KE +5746KI -3658UM +4929HI\n",
      "68 70953 477 477 -7465GI +8685GI -8285HI +0086FU -8582HI +0046KE -5432UM +4634KE -4231OU +4544FU -6576GI +8776KI -3276UM +0077FU -0087GI +7868OU -7675UM +0066KA -7566UM +6766FU -0042FU +3949HI -0038KI +4947HI -3837KI +4737HI -0046KA +3757HI -2435GI\n",
      "69 269489 349 349 +0083FU -8283HI +5655FU -5455UM +4544FU -2232KI +0072KA -0038FU +3938HI -8382HI +7261UM -5599UM +0088FU -4231OU +6171UM -8283HI +7172UM -8384HI +3745KE -0054KY +0057FU -9998UM +7261UM -5242KI +0025FU -2413GI +3534FU -6576GI +8776KI -9876UM +0087GI -7665UM +3647GI -0037FU +3837HI -6555UM +3433TO -2133KE +4533NK -4233KI +3733RY -3233KI +4443TO -0039HI +0049FU -0074KE\n",
      "70 3416643 446 446 -8285HI +0086FU -8582HI +0046KE -5432UM +4634KE -4231OU +4544FU -6576GI +8776KI -3276UM +0077FU -0087GI +7868OU -7675UM +0066KA -7566UM +6766FU -0042FU +3949HI -0033FU +3422NK -3122OU +0025FU -2413GI +3534FU -3334FU +0033FU -2133KE\n",
      "71 4595779 466 466 +0086FU -8582HI +5655FU -5455UM +0077KA -0038FU +7755KA -3839TO +0034KE -4232OU +3422NK -3222OU +4544FU -0033FU +0025FU -2413GI +3534FU -0056HI +3433TO -2133KE +0057FU -5655HI +0034FU -0046KE +5848KI -0058GI +0068KI -5859GI +0077KA -6554GI +7755KA -5455GI +3433TO -2233OU +0031HI -3322OU +3141RY -0032KA +0034KE -2233OU +3745KE -3334OU\n",
      "72 10436 486 486 -8582HI +0046KE -5432UM +4634KE -4231OU +4544FU -6576GI +8776KI -3276UM +0077FU -0087GI +7868OU -7675UM +0066KA -7566UM +6766FU -0042FU +3949HI -0033FU +3422NK -3122OU +0041GI -0031KI +0025FU -2413GI +4152GI -0038KA +4948HI -3856UM\n",
      "73 401856 461 461 +5655FU -5455UM +0077KA -5554UM +0046KE -5432UM +0054FU -4231OU +4544FU -0042FU +3745KE -6554GI +4443TO -5443GI +1716FU -0085FU +8685FU -1516FU +3534FU -0035FU +0025FU -3536FU +2524FU -8285HI +3433TO -2133KE +0034GI -8587RY +7887OU -0086FU +7786KA -3345KE +0081HI -0041GI +3445GI -0074KE +8664KA -0086FU +8777OU -5263KI +6455KA -5354FU +5522UM -3222UM +0044FU -0055KA +7768OU -5546KA +0057FU -0066KE +4443TO -0078KI +6859OU -6658NK\n",
      "74 10656 512 512 -5432UM +4634KE -4231OU +4544FU -6576GI +8776KI -3276UM +0077FU -0087GI +7868OU -7675UM +0066KA -7566UM +6766FU -0042FU +3949HI -0033FU +3422NK -3122OU +0041GI -0031KI +0025FU -2413GI +4152GI -8252HI +6857OU -8778GI +0068KI -0079KA\n",
      "75 856979 485 485 +4634KE -4231OU +4544FU -0033FU +3422NK -3122OU +0025FU -2413GI +3949HI -6576GI +0043KI -7687GI +7887OU -0042FU +4332KI -2232OU +3534FU -0038KI +4947HI -0075KE +8777OU -3837KI +4737HI -0065KE +7776OU -0087GI +7666OU -5354FU +5655FU -8286HI +6675OU -8676HI +7564OU -7678RY +6454OU -0053KI +5445OU -7858RY +3635GI -0054FU +0046KI -1314GI +0071KA -0064KI +4536OU -6455KI +0045KE -3334FU +0033FU -3222OU +3534GI -5546KI +3646OU -5855RY +4635OU -5344KI +7144UM -5544RY +3544OU -0026KA +4454OU -0053FU +5465OU -0064FU +6556OU -0055KI +5655OU -2637UM +5556OU -0054HI\n",
      "76 200725 538 538 -4231OU +4544FU -6576GI +8776KI -3276UM +0077FU -0087GI +7868OU -7675UM +0066KA -7566UM +6766FU -0042FU +3949HI -0033FU +3422NK -3122OU +0041GI -0031KI +0025FU -2413GI +4152GI -8252HI +6857OU -8778GI +0068KI -0079KA +3745KE -5282HI\n",
      "77 527890 538 538 +4544FU -0033FU +3422NK -3122OU +0025FU -2413GI +3949HI -6576GI +0043KI -7687GI +7887OU -0042FU +4332KI -2232OU +3534FU -0038KI +4947HI -0075KE +8777OU -3837KI +4737HI -0065KE +7776OU -0087GI +7666OU -5354FU +5655FU -8286HI +6675OU -8676HI +7564OU -7678RY +6454OU -0053KI +5445OU -7858RY +3635GI -0054FU +0046KI -1314GI +0071KA -0064KI +4536OU -6455KI +0045KE -3334FU +0033FU -3222OU +3534GI -5546KI +3646OU -5855RY +4635OU -5344KI +7144UM -5544RY +3544OU -0026KA +4454OU -0053FU +5465OU -0064FU +6556OU -0055KI +5655OU -2637UM +5556OU -0054HI\n",
      "78 1118110 545 545 -6576GI +8776KI -3276UM +0077FU -0087GI +7868OU -7675UM +0066KA -7566UM +6766FU -0042FU +3949HI -0033FU +3422NK -3122OU +0041GI -0031KI +0025FU -2413GI +4152GI -8252HI +6857OU -8778GI +0068KI -0079KA +3745KE -5282HI +4533NK -2233OU\n",
      "79 10388 616 616 +3422NK -3122OU +0025FU -2413GI +3949HI -6576GI +0043KI -7687GI +7887OU -0042FU +4332KI -2232OU +3534FU -0038KI +4947HI -0075KE +8777OU -3837KI +4737HI -0065KE +7776OU -0087GI +7666OU -5354FU +5655FU -8286HI +6675OU -8676HI +7564OU -7678RY +6454OU -0053KI +5445OU -7858RY +3635GI -0054FU +0046GI -1322GI +0047KA -5867RY +5554FU -5354KI +4554OU -6747RY +3747HI -0036KA +5455OU -0054FU +5556OU -0066KI +5666OU -3647UM +0043KI -4243FU +4443TO -5243KI +0082HI -0042KI +8287RY -0056HI +6675OU -4746UM +3546GI -5646HI +0066KE -0086FU +8737RY -4649RY +0085KA -0074GI +6674KE -7374FU +7574OU -4979RY\n",
      "80 7555722 648 648 -3122OU +0025FU -2413GI +3949HI -6576GI +0043KI -7687NG +7887OU -0042FU +4332KI -2232OU +3534FU -0075KE +8777OU -0038KI +4947HI -3837KI +4737HI -0065KE +7776OU -0087GI +7675OU -6557NK +7564OU -5758NK +6455OU -3334FU +0045GI -0054KI\n",
      "81 12060938 674 674 +0025FU -2413GI +3949HI -6576GI +0043KI -7687GI +7887OU -0042FU +4332KI -2232OU +3534FU -0038KI +4947HI -0075KE +8777OU -3837KI +4737HI -0065KE +7776OU -0087GI +7666OU -5354FU +5655FU -8286HI +6675OU -8676HI +7564OU -7678RY +6454OU -0053KI +5445OU -7858RY +3635GI -0054FU +0046GI -1322GI +0047KA -5867RY +0068FU -6776RY +0077FU -7675RY +0067KE -7585RY +0086FU -8574RY +0075KI -7463RY +4765KA -3334FU +5554FU -2133KE +4556OU -5354KI +3534GI -5465KI +7565KI -0036FU +3736HI -6365RY\n",
      "82 10381 590 590 -2413GI +3949HI -6576GI +0043KI -7687NG +7887OU -0042FU +4332KI -2232OU +3534FU -3334FU +3745KE -0075KE +8777OU -0065GI +0033FU -2133KE +4533NK -3233OU +0021KA -0076KI +7768OU -8286HI +0079KE -6556GI +0055KA -3322OU +2176UM -8676HI\n",
      "83 263682 710 710 +3949HI -6576GI +0043KI -7687GI +7887OU -0042FU +4332KI -2232OU +3534FU -0038KI +4947HI -0075KE +8777OU -3837KI +4737HI -0065KE +7776OU -0087GI +7666OU -5354FU +5655FU -8286HI +6675OU -8676HI +7564OU -7678RY +6454OU -0053KI +5445OU -7858RY +3635GI -0054FU +0046GI -1322GI +0047KA -5867RY +0068FU -6776RY +0077FU -7686RY +5554FU -5354KI +4554OU -0053FU +5445OU -3334FU +4765KA -0054KI +6554KA -5354FU +3534GI -0056KA +4554OU -5634KA +3734HI -2133KE +0076KE -8675RY +0043KI -4243FU +4443TO -5243KI +5463OU -0061GI +0044KE -4344KI +0042KI -3242OU +0053KA -4232OU +0041KA\n",
      "84 396579 570 570 -6576GI +0043KI -7687NG +7887OU -0042FU +4332KI -2232OU +3534FU -3334FU +0033FU -2133KE +0061KA -3222OU +0035FU -3435FU +3635GI -0038KI +4947HI -0085FU +8777OU -8586FU +0083GI -8262HI +6152UM -6252HI +0034FU -0032FU +3433TO -3233FU\n",
      "85 1317051 748 748 +0043KI -7687GI +7887OU -0042FU +4332KI -2232OU +3534FU -0038KI +4947HI -0075KE +8777OU -3837KI +4737HI -0065KE +7776OU -0087GI +7666OU -5354FU +5655FU -8286HI +6675OU -8676HI +7564OU -7678RY +6454OU -0053KI +5445OU -7858RY +3635GI -0054FU +0046GI -1322GI +0047KA -5867RY +0068FU -6776RY +0077FU -7686RY +5554FU -5354KI +4554OU -0053FU +5445OU -3334FU +4765KA -0054KI +6554KA -5354FU +3534GI -0056KA +4554OU -5634KA +3734HI -2133KE +0076KE -8675RY +0043KI -4243FU +4443TO -5243KI +5463OU -0061GI +0044KE -4344KI +0042KI -3242OU +0053KA -4232OU +0041KA\n",
      "86 11165 567 567 -7687NG +7887OU -0042FU +4332KI -2232OU +3534FU -3334FU +0033FU -2133KE +0061KA -3222OU +0035FU -0038KI +4947HI -3435FU +3635GI -0085FU +8777OU -8586FU +0083GI -8262HI +6152UM -6252HI +0034FU -0032FU +3433TO -3233FU +2524FU -8687TO\n",
      "87 7626181 781 781 +7887OU -0042FU +4332KI -2232OU +3534FU -0038KI +4947HI -0075KE +8777OU -3837KI +4737HI -0065KE +7776OU -0087GI +7666OU -5354FU +5655FU -8286HI +6675OU -8676HI +7564OU -7678RY +6454OU -0053KI +5445OU -7858RY +3635GI -0054FU +0046GI -1322GI +0047KA -5867RY +0068FU -6776RY +0077FU -7686RY +5554FU -5354KI +4554OU -0053FU +5445OU -3334FU +4765KA -0054KI +6554KA -5354FU +3534GI -0056KA +4554OU -0053FU +5455OU -5634KA +3734HI -0033FU +0066KE -3334FU +0065KA -0054GI +6654KE -5354FU +6554KA -0043KE +4443TO -4243FU +0044KE -3242OU +0032KI\n",
      "88 13115077 551 551 -0042FU +4332KI -2232OU +3534FU -3334FU +0033FU -2133KE +0061KA -3222OU +0035FU -0038KI +4947HI -3435FU +3635GI -0085FU +8777OU -8586FU +0083GI -8262HI +6152UM -6252HI +0034FU -0032FU +3433TO -3233FU +2524FU -8687TO +7787OU -0069KA\n",
      "89 10396 803 803 +4332KI -2232OU +3534FU -0038KI +4947HI -0075KE +8777OU -3837KI +4737HI -0065KE +7776OU -0087GI +7666OU -5354FU +5655FU -8286HI +6675OU -8676HI +7564OU -7678RY +6454OU -0053KI +5445OU -7858RY +3635GI -0054FU +0046GI -1322GI +0047KA -5867RY +0068FU -6776RY +0077FU -7686RY +5554FU -5354KI +4554OU -0053FU +5445OU -0054KI +4536OU -3334FU +3627OU -3435FU +0056KE -0057GI +4635GI -5748GI +0061KA -4837NG +2737OU -6557NK +6152UM -5747NK +3747OU -0029KA +0038FU -8656RY +4756OU -2938UM +5667OU -0055KE +6766OU\n",
      "90 14093971 534 534 -2232OU +3534FU -3334FU +0033FU -2133KE +0061KA -3222OU +0035FU -0038KI +4947HI -3435FU +3635GI -0085FU +8777OU -8586FU +0083GI -8262HI +6152UM -6252HI +0034FU -8687TO +7787OU -0069KA +8777OU -6958UM +3433TO -2233OU +3745KE -3322OU\n",
      "91 7865619 846 846 +3534FU -0038KI +4947HI -0075KE +8777OU -3837KI +4737HI -0065KE +7776OU -0087GI +7666OU -5354FU +5655FU -8286HI +6675OU -8676HI +7564OU -7678RY +6454OU -0053KI +5445OU -7858RY +3635GI -0054FU +0046GI -1322GI +0047KA -5867RY +0068FU -6776RY +0077FU -7686RY +5554FU -5354KI +4554OU -0053FU +5445OU -0054KI +4536OU -3334FU +3627OU -3435FU +0056KE -0057GI +4635GI -5748GI +0061KA -4837NG +2737OU -6557NK +6152UM -5747NK +3747OU -0029KA +0038FU -8656RY +4756OU -2938UM +5667OU -0055KE +6766OU\n",
      "92 68373 556 556 -3334FU +0033FU -2133KE +0061KA -3222OU +0035FU -0038KI +4947HI -3435FU +3635GI -0036GI +4746HI -3637GI +4636HI -0045KI +6152UM -8252HI +0041KA -0054KA +0076FU -0075KE +8777OU -4536KI +3534GI -0087HI +7766OU -7567NK +6675OU -0032FU\n",
      "93 11161 854 854 +4947HI -0075KE +8777OU -3837KI +4737HI -0065KE +7776OU -0087GI +7666OU -5354FU +5655FU -8286HI +6675OU -8676HI +7564OU -7678RY +6454OU -0053KI +5445OU -7858RY +3635GI -0054FU +0046GI -1322GI +0047KA -5867RY +0068FU -6776RY +0077FU -7686RY +5554FU -5354KI +4554OU -0053FU +5445OU -0054KI +4536OU -3334FU +3627OU -3435FU +0056KE -0057GI +4635GI -5748GI +0061KA -4837NG +2737OU -6557NK +6152UM -5747NK +3747OU -0029KA +0038FU -8656RY +4756OU -2938UM +5667OU -0055KE +6766OU\n",
      "94 397729 749 749 -0075KE +8777OU -3837KI +4737HI -0046GI +3738HI -0065KE +7776OU -6557NK +8977KE -5758NK +3858HI -0074KI +0079KE -3334FU +0085GI -0065KI +7765KE -7465KI +7677OU -0093KE +8576GI -6576KI +7776OU -0065GI +7677OU -4637NG\n",
      "95 10682 881 881 +8777OU -3837KI +4737HI -0065KE +7776OU -0087GI +7666OU -5354FU +5655FU -8286HI +6675OU -8676HI +7564OU -7678RY +6454OU -0053KI +5445OU -7858RY +3635GI -0054FU +0046GI -1322GI +0047KA -5867RY +0068FU -6776RY +0077FU -7686RY +5554FU -5354KI +4554OU -0053FU +5445OU -0054KI +4536OU -3334FU +3627OU -3435FU +0056KE -0057GI +4635GI -5748GI +0061KA -4837NG +2737OU -6557NK +6152UM -5747NK +3747OU -0029KA +0038FU -8656RY +4756OU -2938UM +5667OU -0055KE +6766OU\n",
      "96 533180 543 543 -3837KI +4737HI -0065KE +7776OU -0087GI +7675OU -6557NK +7564OU -5758NK +6455OU -0026KI +5546OU -2637KI +4637OU -8262HI +3433TO -2133KE +0034FU -6267RY +0047KE -3325KE +3625GI -0039HI +0038KI -0046KI +3746OU -3938RY +0033GI -3241OU\n",
      "97 3607704 878 878 +4737HI -0065KE +7776OU -0087GI +7666OU -5354FU +5655FU -8286HI +6675OU -8676HI +7564OU -7678RY +6454OU -0053KI +5445OU -7858RY +3635GI -0054FU +0046GI -1322GI +0047KA -5867RY +0068FU -6776RY +0077FU -7686RY +5554FU -5354KI +4554OU -0053FU +5445OU -0054KI +4536OU -3334FU +3627OU -3435FU +0056KE -0057GI +4635GI -5748GI +0061KA -4837NG +2737OU -6557NK +6152UM -5747NK +3747OU -0029KA +0038FU -8656RY +4756OU -2938UM +5667OU -0055KE +6766OU\n",
      "98 7737496 465 465 -0065KE +7776OU -0087GI +7675OU -6557NK +7564OU -5758NK +6455OU -0026KI +5546OU -2637KI +4637OU -8262HI +3433TO -2133KE +0034FU -6267RY +0047KE -3325KE +3625GI -0039HI +0038KI -0046KI +3746OU -3938RY +0033GI -3241OU +0032KI -4151OU\n",
      "99 10673 921 921 +7776OU -0087GI +7666OU -5354FU +5655FU -8286HI +6675OU -8676HI +7564OU -7678RY +6454OU -0053KI +5445OU -7858RY +3635GI -0054FU +0046GI -1314GI +0047KA -5847RY +3747HI -3334FU +3534GI -0033KI +3433GI -2133KE +4556OU -0034KA +5666OU -5364KI +0097KA -0056GI +0026KE -3425KA +4737HI -5657GI +4657GI -6455KI +6675OU -0036FU +3727HI -6557NK +0034FU -0074GI +7584OU -0083FU\n",
      "100 532020 666 666 -8286HI +3433TO -2133KE +0034FU -3241OU +3433TO -8689RY +0032KI -4151OU +3342TO -5242KI +3242KI -5162OU +0051KA -6272OU +0061KA -7282OU +0071GI -8292OU +0083KI -8983RY +6183UM -9283OU +0082HI -8374OU +0066KE -7463OU +5162UM\n",
      "101 1450052 926 926 +3433TO -2133KE +0034FU -3241OU +3433TO -8689RY +0079FU -0057KE +0032KA -4151OU +3265UM -0046GI +3342TO -5242KI +0063KE -5141OU +0032GI -4152OU +3243GI -5263OU +0045KA -0054KE +4354GI -5354FU +6554UM -6374OU +5463UM -7483OU +0084FU -8984RY +0085FU -0069KI +6877OU -7587NK +7787OU -0086FU +8797OU -8485RY +6385UM -8687TO +9787OU -0086FU +8586UM -0072GI +0075KE -8393OU +0085KE -9382OU\n",
      "102 1133204 785 785 -2133KE +0034FU -3241OU +3433TO -8689RY +0032KI -4151OU +3342TO -5242KI +3242KI -5161OU +4252KI -6152OU +0043KA -5262OU +0051GI -6263OU +4352UM -6372OU +5261UM -7282OU +0071KA -8281OU +0082KI -8982RY +7182UM -8182OU +0083HI -8292OU\n",
      "103 9634964 1150 1150 +0034FU -8688RY +0078GI -1322GI +3433TO -2233GI +0045KE -3344GI +0066KA -0057KI +3757HI -6557NK +6857OU -8878RY +0033KI -3241OU +0032KI -4151OU +6644KA -5162OU +3242KI -0037GI +4252KI -6271OU +4453UM -7182OU +5364UM -7567NK +5867KI -0046GI +5766OU -0065FU +6465UM -0086HI +0076FU -7867RY +6667OU -8687RY +0077KI -0066FU +6766OU\n",
      "104 10389 819 819 -3241OU +3433TO -8689HI +0032KI -4151OU +3342TO -5242KI +3242KI -5161OU +4252KI -6152OU +0043KA -5263OU +0052KA -6372OU +5261UM -7282OU +0083KI -8983RY +0071GI -8293OU +6183UM -9383OU +0082HI -8374OU +0066KE -7463OU +8262RY\n",
      "105 418374 1301 1301 +0078GI -1322GI +3433TO -2233GI +0045KE -3344GI +0066KA -0057KI +3757HI -6557NK +6857OU -8878RY +0033KI -3241OU +0032KI -4151OU +6644KA -5162OU +3242KI -0037GI +4252KI -6271OU +4453UM -7182OU +5364UM -7567NK +5867KI -0075GI +0074KE -8292OU +0081KA -9293OU +0082GI -9384OU +6473UM -8485OU\n",
      "106 10429 1005 1005 -1322GI +3433TO -2233GI +0045KE -3344GI +0033FU -3241OU +0061KI -0031FU +0034KA -8889RY +3423UM -0032GI +3332TO -3132FU +2332UM -4132OU +0033GI -4433GI +4533NK -3233OU +3645GI -0035FU +3735HI -3322OU +0031KA -2223OU +0024GI\n",
      "107 262410 1223 1223 +3433TO -2233GI +3645GI -0036FU +3736HI -0035FU +0034FU -0079GI +6859OU -0068KI +5948OU -6858KI +4847OU -3334GI +4534GI -6557NK +4746OU -3536FU +0033GI -3241OU +0072KA -5756NK +4635OU -0065HI +0045KE -6545HI +7245UM -0043KE +4443TO -0081FU\n",
      "108 3230356 1092 1092 -2233GI +0045KE -3344GI +0033FU -3241OU +0061KI -0031FU +0034KA -7587NK +3423UM -0032GI +3332TO -3132FU +3627GI -0069KI +6869OU -8889RY +0079GI -0057KE +5857KI -1112KY +3732RY\n",
      "109 9700628 1497 1497 +3645GI -0036FU +3736HI -0035FU +0034FU -7567NK +5867KI -3334GI +0033FU -3233OU +0066KA -0057GI +6757KI -6557NK +6857OU -8887RY +8977KE -0067KI +5767OU -0076KI +6768OU -7666KI +4534GI -3334OU +0046KE -3445OU +0072KA -0063GI +0034GI\n",
      "110 10655 1163 1163 -0034KI +0079KI -3445KI +7988KI -4546KI +4443TO -5243KI +0051HI -0031FU +0041KA -3222OU +2524FU -3324GI +0055KA -0044KE +5546KA -4456KE +6859OU -0057GI +5857KI -6557NK +4657KA\n",
      "111 10762 1334 1334 +0079KI -8886RY +3647GI -0036FU +3736HI -0035FU +3646HI -3344GI +0033FU -2233GI +4533NK -4433GI +0055KA -7567NK +6867OU -0054KE +0034FU -5446KE +3433TO -3241OU +4746GI -0049HI +0059KE -0048KI +0034KE -4858KI +3342TO -5242KI +0063KA -0052KI +3442NK -4142OU\n",
      "112 11198 1361 1361 -8899RY +0061GI -5262KI +4533NK -2233GI +0055KA -9996RY +3645GI -0034FU +4443TO -4243FU +5533UM -3233OU +3734HI -3342OU +0033KA -4231OU +0042GI -3121OU +0022GI -2112OU +2211NG\n",
      "113 926532 1421 1421 +3647GI -0036FU +3736HI -0035FU +3638HI -3344GI +0033FU -2233GI +4533NK -4433GI +0034FU -3334GI +0055KA -0049KI +0097KA -0076KE +6869OU -8684RY +5511UM -7587KE +0086KY -8475RY +0066GI -8779NK +6979OU -0087FU +6675GI -0022KI +0044KE -3243OU +1122UM -8788TO +9788KA -7688NK\n",
      "114 265121 1314 1314 -0036FU +3736HI -0035FU +3646HI -3344GI +0033FU -2233GI +4533NK -4433GI +2524FU -7567NK +5867KI -0075KE +2423TO -3241OU +2333TO -7567NK +6859OU -0058KI +4758GI -6758NK +5958OU -0057GI +5849OU -5746NG +0032KI\n",
      "115 10391 1499 1499 +3736HI -0035FU +3646HI -3344GI +8977KE -6577NK +7877FU -0054KE +0033FU -3241OU +0097KA -8684RY +4626HI -7587NK +5655FU -8797NK +5554FU -0037KA +2676HI -9788NK +0085FU -8485RY +7673RY -2233GI +5453TO -8879NK +5352TO -4131OU +5242TO -3342GI +0032FU -3141OU +0031KI -4231GI +3231TO -4131OU\n",
      "116 1444887 1328 1328 -0035FU +3646HI -3344GI +8977KE -4445GI +4645HI -0034KI +0097GI -8676RY +4546HI -0054KE +4626HI -5466KE +6766FU -7666RY +6859OU -6557NK +0068FU -5758NK +4758GI -0057KI +0049GI -5758KI +4958GI -0057GI +0049KI -5758GI +4958KI -0057GI\n",
      "117 10390 1545 1545 +3646HI -3344GI +0033FU -2233GI +4533NK -4433GI +0034FU -3334GI +0055KA -0054KE +4626HI -3536FU +2524FU -3241OU +2423TO -0025FU +2636HI -0035FU +3638HI -0076KI +0072KA -3423GI +7261UM -7567NK +6859OU -6758NK +4758GI -5466KE +0044KE -6658NK +3858HI -0043GI +4452NK\n",
      "118 396192 1402 1402 -3344GI +8977KE -4445GI +4645HI -0034KI +0097GI -0076KE +6859OU -8697RY +9997KY -3445KI +0061HI -0057GI +7765KE -7567KE +5867KI -4546KI +0041KA -3233OU +0055KA -3334OU +4152UM -4243FU +6164RY\n",
      "119 1313310 1635 1635 +0033FU -2233GI +4533NK -4433GI +0034FU -3334GI +0055KA -0045KE +0066GI -3241OU +5533UM -0043KI +3311UM -7587KE +7988KI -8799NK +0087KY -8696RY +8897KI -9676RY +9786KI -7674RY +8675KI -7463RY +6665GI -6465FU +0055KE -6361RY +5543NK -4243FU +1133UM -0031KY +3315UM -0014FU +1514UM -9989NK +0032FU -3132KY +0033FU -3233KY\n",
      "120 205756 1459 1459 -6577NK +7877FU -0034KE +0033FU -3241OU +0032KA -4131OU +3276UM -8676RY +7776FU -3446KE +0032GI\n",
      "121 3365052 1646 1646 +7877FU -0054KE +0033FU -3241OU +4626HI -7587NK +6859OU -8677RY +0078FU -8778NK +3332TO -4132OU +2524FU -5466KE +2423TO -3241OU +0063KE -5263KI +2332TO -4151OU +2622RY -6658NK +5958OU -7868NK +7968KI -0048KI +5848OU -7768RY +0058KI -0057KI +4839OU -0048KI +3929OU -6869RY +0059KE -5162OU +3242TO -5747KI\n",
      "122 11607740 1384 1384 -0034KE +0033FU -3241OU +0032KA -4151OU +3276UM -8676RY +7776FU -3446KE +4746GI -0086KA +6857OU -0027HI +0047FU -4445GI +4645GI -0065KE +5746OU -2726RY +4655OU -8677UM +0066KE -0054KI +4554GI -5354FU +5564OU -0063GI +6473OU -5262KI\n",
      "123 10663 1647 1647 +0033FU -3241OU +4626HI -7587NK +6859OU -8677RY +0078FU -8778NK +3332TO -4132OU +2524FU -5466KE +2423TO -3241OU +0063KE -5263KI +0034KA -6658NK +5958OU -0043KE +2332TO -4151OU +3242TO -5162OU +2622RY -7868NK +7968KI -0048KI +5848OU -7768RY +0058KI -0057KI +4839OU -0048KI +3929OU -6879RY +0059KE -5747KI +4243TO -6251OU\n",
      "124 397326 1496 1496 -4445GI +0044KE -3233OU +4452NK -0055KE +5655FU -8626RY +5554FU -0056KI +0059KE -5647KI +5847KI -0056GI +0066KA -3334OU +6675KA -5647GI +5947KE -4556GI +0058GI -0065HI +0066GI -6575HI +6675GI\n",
      "125 201650 1681 1681 +6766FU -8666RY +6859OU -0057KI +0068GI -5758KI +4758GI -0067KI +0033FU -4433GI +4533NK -2233GI +0034FU -3334GI +0044KE -3233OU +4452NK -6758KI +5958OU -0067GI +5849OU -6768GI +0055KA -6655RY +5655FU -0067KA +4939OU -0037GI\n",
      "126 3217842 1546 1546 -8666RY +6859OU -7567NK +0049KE -0036KI +4736GI -3536FU +0076KA -6676RY +7776FU -6758NK +5958OU -4445GI +0044KE -3243OU +0035GI -0066KE +5857OU -0046GI +3546GI -4546GI +5746OU -0035GI +4635OU -0034KI +3546OU -0035KA\n",
      "127 1974834 1822 1822 +6859OU -0057KI +0068GI -5747KI +5847KI -4445GI +0044KE -3233OU +0057KI -0055KE +5766KI -5547NK +0076KA -0058GI +7658KA -0048KI +5969OU -4858KI +6978OU -0087KA +7888OU -0086FU +6675KI -5868KI +7968KI -8754UM +0076GI -0087GI +8897OU -8776NG +7776FU\n",
      "128 530988 1494 1494 -0057KI +0068GI -7567NK +6857GI -6757NK +0033FU -3241OU +0084KA -6677RY +8457KA -4131OU +0032KI\n",
      "129 11178 1932 1932 +0068GI -7567KE +6867GI -5767KI +5867KI -6667RY +0058KI -6777RY +0078FU -7787RY +0049KE -4445GI +0044KE -3233OU +4452NK -0067KE +5867KI -8767RY +0058KI -0038GI +5867KI -3847NG +5968OU -0086GI +7969KI -0048KI +0055KA\n",
      "130 10804 1774 1774 -7567NK +6867GI -5767KI +5867KI -6667RY +0058KI -0057KI +5867KI -5767KI +0076KA -3231OU +0021HI\n",
      "131 220467 2059 2059 +6867GI -5767KI +5867KI -6667RY +0058KI -6777RY +0033FU -2233GI +0068KA -7775RY +4533NK -4433GI +0034FU -3334GI +0044KE -3233OU +4452NK -0066KE +5848KI -0067GI +0055KA -0044KI +5544KA -3344OU +0055GI -7555RY +5655FU -0036GI +0056KE -6756NG +4756GI\n",
      "132 11803187 2188 2188 -5767KI +5867KI -6667RY +0058KI -0057KI +5867KI -5767KI +0076KA -4243FU +7667KA -4445GI +0057KE -0066GI +0058KI -6667NG +5867KI -0037KA\n",
      "133 4658483 2168 2168 +5867KI -6667RY +0058KI -6777RY +0078FU -7775RY +0033FU -2233GI +4533NK -4433GI +0067KE -0041GI +6775KE -0083KE +7583NK -0084KI +8384NK -0085FU +8485NK -0086FU +8586NK -0085FU +8687NK\n",
      "134 7804339 2417 2417 -6667RY +0058KI -0057KI +5867KI -5767KI +0076KA -4243FU +7667KA -0057KI +0058KI -5767KI\n",
      "135 8263987 2243 2243 +0058KI -6777RY +0078FU -7787RY +0049KE -0043GI +0033FU -3241OU +2524FU -2324FU +0098KA -8782RY +2624HI -0023FU +2444HI -4344GI +3332TO -4151OU +0083FU -8283RY +0075KE -8386RY +0063GI -8675RY +0041KA -0062KI +6352NG -6252KI +0063KI\n",
      "136 11179 2617 2617 -0057KI +5867KI -5767KI +0076KA -3241OU +7667KA -0071GI +0061HI -4132OU +0021KA\n",
      "137 1972668 2263 2263 +0078FU -7775RY +0033FU -2233GI +4533NK -4433GI +0024KE -2324FU +2524FU -0022FU +0034FU -3334GI +0044KE -3233OU +0041KA -0031KI +4152UM -0043GI +5253UM -0025KE +0046KE -0057FU +5857KI -0045KE +5758KI -0057FU +5868KI -4537NK +6857KI -3747NK +5747KI -0057FU +4757KI -0037GI +4634KE -3726NG +3422NK -3122KI +0031GI -2537NK +3122GI\n",
      "138 10429 2640 2640 -7787RY +0088FU -8747RY +5847KI -0067GI +7968KI -0066GI +0079KE -6768GI +5968OU\n",
      "139 925242 2258 2258 +0033FU -2233GI +4533NK -4433GI +0024KE -2324FU +2524FU -0022FU +0034FU -3334GI +0044KE -3233OU +0041KA -0031KI +4152UM -0043GI +5253UM -0057FU +5857KI -0025KE +0046KE -0045KE +5767KI -4537NK +4758GI -3736NK +4634KE -3626NK +3422NK -3122KI +0031KA -2537NK +3142UM -3334OU +5343UM -3445OU +0047GI -3747NK +5847GI -0058FU\n",
      "140 10666 2588 2588 -0037GI +2627HI -0026KI +2729HI -2636KI +4736GI -3536FU +2524FU -0028GI +2928HI -3728GI +0033FU -3241OU +0067KE -7566RY\n",
      "141 10775 2132 2132 +4736GI -3536FU +0067KE -7586RY +0033FU -4433GI +2636HI -0035FU +3635HI -0034FU +3536HI -0035GI +3639HI -0046KI +0047FU -4657KI +5857KI -0065KE +5758KI -8656RY +0055KI -5658RY +5958OU -0057KI +5869OU -5767KI +0058FU -0066KE +7968KI\n",
      "142 4460695 2164 2164 -3536FU +2636HI -0035FU +3639HI -4445GI +0044KE -3233OU +4452NK -0046KE +0047GI -4658NK +4758GI -4556GI +0088KA -0066GI +8866KA -7566RY +0088KA -0048KI +5948OU -5657GI\n",
      "143 4262679 2170 2170 +0067KE -7585RY +2524FU -2324FU +2624HI -0033GI +4533NK -4433GI +0044KE -3344GI +0021GI -3241OU +2422RY -0046KE +2132NG -4151OU +2211RY -5162OU +0063FU -6263OU +1161RY -6374OU +0077KY -0076KE +6152RY -4658NK +5958OU -0047KI +5847OU -3637TO +4737OU -0036FU +3748OU -0037KI +4858OU -3748KI +5848OU\n",
      "144 1443607 1979 1979 -0035FU +3639HI -4445GI +0044KE -3243OU +0067KE -7566RY +0055GI -6656RY +0047KA -0046KE +4756KA -4556GI +5546GI -0047GI +0048FU -4758GI +5958OU -0066KI +7968KI\n",
      "145 10774 1881 1881 +3635HI -4435GI +0034KA -5243KI +0033FU -4333KI +3452UM -0039HI +0049FU -0041KI +4533NK -2233GI +0021GI -3221OU +5241UM -0032GI +0031KI -2112OU +4132UM -1213OU +3233UM -3524GI +0022GI -1314OU +0026KE -1425OU +3323UM -0046KE\n",
      "146 396186 2229 2229 -0038FU +3949HI -4445GI +4945HI -7545RY +5745KE -0046KE +0076KA -0065KI +7685KA -4658NK +8558KA -0057KI +7968KI -6556KI +0034GI -0089HI +0069FU -5768KI +5968OU -0057KI +6877OU -5758KI\n",
      "147 10391 1764 1764 +0067KE -7566RY +0033FU -3243OU +0085KA -5251KI +8563UM -0046KI +7968KI -3637TO +3332TO -4332OU +0034FU -0033FU +3433TO -2233GI +4533NK -3233OU +0045GI -0047KE +5969OU -4739NK +0034GI -3322OU +4544GI -3544GI +2524FU -0089HI +0079KE -0032GI +0041KA\n",
      "148 10388 2167 2167 -3243OU +0067KE -7566RY +0061KA -3546GI +7968KI -3637TO +0063GI -0051KI +6352GI -5152KI +0032KA -4334OU +6152UM -0043GI +5242UM -4332GI +3332TO -0048KA +5848KI\n",
      "149 1312020 1742 1742 +4533NK -4433GI +0067KE -7585RY +2524FU -3324GI +0034KA -5243KI +3443UM -4243FU +0034KE -0046KE +0041KA -3233OU +4185UM -0026KA +0048FU -3637TO +0031HI -0032FU +0045GI -2425GI +3111RY -3748TO +5968OU -4658NK +6877OU -0066KI +7766OU\n",
      "150 4411284 1849 1849 -4433GI +0067KE -7585RY +0086FU -8586RY +0077KA -8677RY +7877FU -0066KE +0045KE -0037KA +0048GI -3546GI +4533NK -3233OU +5745KE -3344OU +0022KA -4435OU +2266UM\n",
      "151 11800340 1799 1799 +0067KE -7585RY +2524FU -3324GI +0034KA -4243FU +0021GI -3233OU +0045KA -0031KE +0032GI -3344OU +3231GI -0028KI +3423UM -5354FU +3949HI -2838KI +5655FU -3849KI +5949OU -3637TO +5554FU -0046HI +0048FU -8545RY +2345UM\n",
      "152 10675 1739 1739 -7585RY +0086FU -8586RY +0077KA -8677RY +7877FU -0066KE +0045KE -0026KA +0048GI -3344GI +7969KI -6658NK +6958KI -0078KI +0087KA -3231OU +0021HI\n",
      "153 924995 1875 1875 +2524FU -3324GI +0034KA -4243FU +0021GI -3233OU +0045KA -0031KE +0032FU -0044KI +3231TO -4434KI +3132TO -3344OU +4572UM -5354FU +5655FU -5455FU +3949HI -0046KA +0038KE -5556FU +3846KE -3546GI +4946HI -0045KE +4656HI -0055FU +5636HI -3435KI +7245UM\n",
      "154 10436 1589 1589 -8586RY +0077KA -8677RY +7877FU -0066KE +0045KE -0026KA +0048GI -3344GI +7969KI -6658NK +6958KI -0028KI +0076KA -6465FU +7665KA -0054KI +6554KA -5354FU +0034GI -2839KI +0033FU -3222OU +5968OU -0088HI +0078KE\n",
      "155 1974724 1750 1750 +0077KA -8677RY +7877FU -0066KE +0081HI -6658NK +5958OU -0046KI +0021KA -3222OU +8141RY -4657KI +5857OU -0046KA +5766OU -2213OU +2132UM -0065KI +3265UM -6465FU +6676OU -0064KE +7687OU -0086FU +8786OU -0085FU +8687OU -4679UM +3979HI -6566FU +4111RY -0012KI\n",
      "156 10940 1598 1598 -8677RY +7877FU -0066KE +0045KE -0026KA +0048GI -3344GI +7969KI -6658NK +6958KI -0028KI +0076KA -5354FU +7654KA -0043KI +0033FU -3222OU +0031HI -2231OU +0034KE -0089HI +5968OU -8988RY\n",
      "157 6169148 1838 1838 +7877FU -0066KE +0081HI -6658NK +5958OU -0046KI +0021KA -3222OU +8141RY -4657KI +5857OU -0046KA +5766OU -2213OU +2132UM -0065KI +3265UM -6465FU +6676OU -0064KE +7687OU -0086FU +8786OU -0085FU +8687OU -4679UM +3979HI -6566FU +4111RY -0012KI +0031KA -0022KA\n",
      "158 14753468 1554 1554 -0066KE +0045KE -0026KA +0048GI -3344GI +7969KI -6658NK +6958KI -0028KI +0076KA -5354FU +7654KA -0043KI +5443UM -5243KI +0033FU -4333KI +4533NK -3233OU +0031HI -0032KE\n",
      "159 10896 1872 1872 +3949HI -0066KE +0081HI -2837UM +0048GI -0051KI +0076KA -4243FU +6755KE -3738UM +5543NK -5243KI +8151RY -0046KE +5868KI -3637TO +4837GI -3837UM +0048KI -0058GI +6858KI -4658NK +7658KA -6658NK +5958OU -3736UM +0047GI -3625UM +0037KE -2547UM +4847KI -0031FU\n",
      "160 396579 1633 1633 -0046KE +0076KA -6465FU +5868KI -0066KI +7685KA -6657KI +6857KI -0045KE +5747KI -3637TO +8552UM -3747TO +5969OU -0087KI +4947HI -2837UM +4737HI\n",
      "161 10674 1964 1964 +0081HI -2837UM +0048GI -0051KI +0076KA -6465FU +7665KA -4243FU +4837GI -3637TO +6755KE -0054GI +6576KA -6658NK +5958OU -0066FU +0064KE -0048KI +5868OU -4849KI +6452NK -0048HI +0058KE -3747TO +8151RY -4758TO +7658KA -4858RY +6858OU\n",
      "162 466741 1721 1721 -0038KI +4945HI -6658NK +6958KI -3544GI +4585HI -0084FU +8584HI -0078KI +0087KA -4243FU +8778KA -2819UM +5968OU\n",
      "163 346136 1922 1922 +5968OU -3738UM +4959HI -3637TO +0081HI -0031FU +0045KE -3748TO +4533NK -3233OU +8131RY -0032FU +0022KA -3334OU +2266UM -4859TO +5859KI -3425OU +3132RY -0034FU +0039FU -3839UM +0037GI\n",
      "164 529972 1681 1681 -3738UM +4945HI -3544GI +4585HI -3637TO +0087KA -6465FU +8765KA -0054KI +0034FU -3334GI +0041GI -3241OU +0021HI -0031FU +0022GI -5465KI +2131RY\n",
      "165 855055 2041 2041 +4945HI -3637TO +4535HI -0034FU +3585HI -2736UM +0059GI -0047KI +0049GI -3748TO +5848KI -4748KI +0087KA -5243KI +4948GI -0088KI +0047GI -8887KI +8587HI -3654UM +8782RY -0086FU +8286RY -0087KA +8666RY -8769UM +6869OU -6465FU +5765KE\n",
      "166 397727 1966 1966 -3637TO +4535HI -0034FU +3585HI -2736UM +0049GI -0047KI +5859KI -3646UM +6879OU -4757KI +7988OU -5767KI +8581RY -0065KE +0089KE -0086FU +8186RY -0074KE +8681RY\n",
      "167 84888 2196 2196 +4535HI -0034FU +0071HI -3435FU +0041KA -3243OU +6755KE -4344OU +4152UM -0088HI +6867OU -0043KI +5543NK -4243FU +0055GI -4434OU +6766OU -8886RY +0076KI -0074KE +6667OU -8689RY +0078GI -8999RY +7111RY -0065KY\n",
      "168 4591510 1973 1973 -0034FU +3585HI -2736UM +0049GI -0047KI +5859KI -3646UM +6879OU -4757KI +7988OU -5767KI +0076KA -0065KE +7667KA -6557NK +6776KA -4243FU +8582RY -5262KI\n",
      "169 10389 2369 2369 +0071HI -3435FU +0041KA -3243OU +6755KE -4334OU +4152UM -0043KI +7111RY -6658NK +6958KI -0088HI +0078KI -3425OU +7888KI -0047KI +5847KI -3747TO +0029KY -0058KI +6878OU -2536OU +0039HI -4738TO\n",
      "170 396099 2076 2076 -2736UM +0049GI -0047KI +0087KA -6465FU +8765KA -5354FU +0045KE -4758KI +4958GI -6658NK +6958KI -3658UM +6858OU -0078KI +4533NK\n",
      "171 7559467 2109 2109 +6958KI -0084FU +8584HI -0047KI +0076KA -5354FU +0069GI -4758KI +6958GI -3748TO +8481RY -4858TO +6858OU -0078KI +0021GI -3243OU +0046HI -0045GI +5745KE -4344OU +4533NK -0045KI +4648HI -7877KI +7654KA\n",
      "172 11999915 2725 2725 -2736UM +0069GI -0047KI +0045KE -4758KI +6958GI -3658UM +6858OU -0078KI +4533NK -3233OU +5745KE -3344OU +0026KA\n",
      "173 10434 2214 2214 +8575HI -0047KI +0045KE -4758KI +6858OU -2736UM +5868OU -0058KI +6878OU -0065KI +5765KE -3645UM +6573NK -0065KE +0061HI -3243OU +6164RY -4554UM +0021KA -4344OU +2154UM -5354FU +7565HI\n",
      "174 1450434 2426 2426 -2736UM +0069GI -0047KI +0045KE -4758KI +6958GI -3748TO +5869GI -0058KI +6878OU -5857KI +0041GI -3241OU +4533KE -4132OU +0041GI -3243OU +4152GI -4344OU +0068KI\n",
      "175 11169 2034 2034 +0076KA -5354FU +8481RY -4758KI +6858OU -0047KI +5868OU -4757KI +6857OU -0065KE +5768OU -0066KI +0069KE -6676KI +7776FU -0035KA +6878OU -0086FU +8186RY -2736UM +0061HI -3669UM +7869OU -0051KE +8682RY -6577NK +0078KI\n",
      "176 10805 2025 2025 -4758KI +6958GI -3748TO +5869GI -0087FU +8487HI -2736UM +0076KA -0065KI +5765KE -6465FU +8782RY -0066KE +7665KA -5354FU +6755KE -3669UM +6867OU -0075KI +6554KA\n",
      "177 7803051 2034 2034 +6958GI -3748TO +0069GI -4858TO +6958GI -0048KI +0045KE -4858KI +6858OU -0046GI +4533NK -3233OU +0031HI -0032KE +0066KA -0055GI +6755KE -0047KI +5869OU -4757KI +5563NK -0055KE +6352NK -5767KI +8464HI -2736UM +6979OU -6766KI +0044GI -3322OU +0033GI -2212OU\n",
      "178 7609003 1813 1813 -3748TO +5869GI -0087FU +8487HI -2736UM +0045GI -3669UM +6869OU -0058GI +6978OU -5867GI +7867OU -0075KE +6766OU -7587NK +0076KA -0065KI +5765KE -6465FU +7665KA -0054KE +4554GI -5354FU +0061HI -0075GI +6675OU -0074KI +6574KA -7374FU\n",
      "179 592930 2086 2086 +0069GI -4858TO +6958GI -0048KI +0045KE -4858KI +6858OU -0046GI +8481RY -3243OU +4533NK -4344OU +0055GI -4655GI +0047HI -0046GI +4727HI -4657NG +5857OU -0066GI +5748OU -0036KE +4838OU -0028KI +2728HI -3628NK\n",
      "180 11189 1831 1831 -4858TO +6958KI -0049GI +5848KI -0058KI +4858KI -4958NG +6858OU -2736UM +0047FU -0046KI +0059KE -4647KI +5947KE -3646UM +0048GI -4619UM +0037GI -3243OU +0027KI\n",
      "181 4788523 2181 2181 +6958KI -0046GI +0071HI -0051KI +0045KE -4657GI +5857KI -2745UM +0046GI -4536UM +0047GI -3626UM +0045KE -0065KE +4533NK -3233OU +0066KA -0044KE +5758KI -0054KE +6655KA -5446KE +4746GI -0049GI +0045KE -3322OU +5847KI -5354FU\n",
      "182 9902763 1712 1712 -0049GI +5848KI -0058KI +4858KI -4958NG +6858OU -2736UM +0047FU -0046KI +0059KE -0049KI +5868OU -4959KI +0061HI -0051KE +8482RY -3647UM +6878OU -4657KI +7887OU\n",
      "183 10787 2283 2283 +5848KI -0058KI +6878OU -0087FU +7887OU -5857KI +4857KI -2754UM +0076KA -5476UM +7776FU -0086FU +8486HI -0068KA +8681RY -0086FU +8186RY -6886UM +8786OU -0089HI +0087FU -0074KE +8675OU -8987RY +0024KE -3324GI +0044KE -3243OU +0032KA\n",
      "184 464290 1728 1728 -0058KI +4858KI -4958NG +6858OU -2736UM +0047FU -0046KI +0059KE -0049KI +5868OU -3637UM +4746FU -3759UM +6879OU -0087FU +8487HI -0086FU +8786HI -5977UM\n",
      "185 11179 2404 2404 +4858KI -4958NG +6858OU -2736UM +0047FU -0046KI +0048GI -0037KI +5868OU -3748KI +4746FU -4858KI +6878OU -5857KI +0045KE -5767KI +7867OU -0075KE +6776OU -3658UM +7675OU -5857UM +0066FU -0063KE +7576OU -0075GI +7687OU -7584GI +4533NK -3233OU +0031HI\n",
      "186 7803179 1752 1752 -4958NG +6858OU -2736UM +0047FU -0046KI +0059KE -0049KI +5868OU -3637UM +4746FU -3759UM +6879OU -0087FU +8487HI -0086FU +8786HI -5977UM +8681RY\n",
      "187 7623083 2390 2390 +6858OU -2736UM +0047FU -0048KI +5868OU -4847KI +0076KA -5354FU +8481RY -4757KI +6857OU -0065KE +5766OU -0086KI +8186RY -3646UM +0058KI -4619UM +8681RY -0051KY +0045KE -1946UM +4533NK -3233OU +0031HI -0032KE +0041GI -3344OU\n",
      "188 13113899 1715 1715 -2736UM +0047FU -0046KI +0039KE -0066KI +0068GI -6657KI +6857GI -4657KI +5857OU -3635UM +0046KE -0045KE +5768OU -3546UM +4746FU -0057GI +6878OU -0066KE\n",
      "189 853911 2337 2337 +0047FU -0046KI +0048GI -0037KI +5868OU -3748KI +4746FU -4858KI +6878OU -5857KI +0045KE -0086FU +8486HI -5767KI +7867OU -0075KE +6757OU -0065KE +5766OU -3646UM +4533NK -3233OU +0031HI -0032KE +6675OU -5263KI +0066KA -0055GI +5655FU\n",
      "190 10401 1658 1658 -0046KI +0059KE -0049KI +5868OU -4959KI +6878OU -0083FU +8483RY -0071KE +8382RY -0081FU +8271RY -3672UM +0031HI -3243OU +0032GI -4344OU +0055GI\n",
      "191 11168 2464 2464 +0048GI -0037KI +5868OU -3748KI +4746FU -4858KI +6878OU -5857KI +0045KE -0086FU +8486HI -5767KI +7867OU -0075KE +6757OU -0065KE +5766OU -3646UM +4533NK -3233OU +0031HI -0032KE +6675OU -5263KI +0066KA -0055GI +6655KA -4655UM +5655FU\n",
      "192 10650 1674 1674 -0066KI +0068GI -6657KI +6857GI -4657KI +5857OU -3635UM +0046KE -0045KE +5768OU -0066GI +0058KI -3544UM +0076KI -6677NG +7677KI -4477UM +6877OU -3243OU\n",
      "193 3608618 2375 2375 +5857OU -0065KE +5766OU -0041KI +0061HI -5251KI +6164RY -3654UM +6454RY -5354FU +0045KE -0053HI +4553NK -6577NK +6677OU -0066FU +7766OU -0065FU +6665OU -0064FU +8464HI\n",
      "194 7869866 1399 1399 -0045KE +5768OU -3637UM +6878OU -4557NK +0081HI -3759UM +7887OU -5767NK +0089KE -5969UM +8786OU -0074KE +8685OU\n",
      "195 10673 2435 2435 +5766OU -5251KI +0071HI -0041KI +8464HI -0061FU +6465HI -3654UM +0045KE -5465UM +6665OU -0035HI +0046GI -3545HI +0055KA -4555HI +5655FU -0087KA +0076GI -8776UM +7776FU\n",
      "196 529714 1652 1652 -3637UM +0049KI -6577NK +6677OU -3719UM +0081HI -0051KY +8191RY -3243OU +0072FU -4354OU +0082GI -5465OU +0066KI\n",
      "197 463524 2484 2484 +0071HI -0041KI +8464HI -0061FU +6465HI -3654UM +0045KE -5465UM +6665OU -0035HI +0046GI -3545HI +0055KA -4555HI +5655FU -0087KA +0076GI -8776UM +7776FU\n",
      "198 67212 1929 1929 -3637UM +6676OU -0074KI +0066KA -7484KI +6684KA -0089HI +2423TO -3223OU +0021HI\n",
      "199 11154 2402 2402 +0071HI -5141KI +0052GI -3663UM +5263GI -2324FU +0052GI -3223OU +5241GI -3141KI +7141RY -0057GI +6675OU -7374FU +8474HI\n",
      "200 66309 1769 1769 -3647UM +3947KE -6577KE +1615FU -1115KY +1915KY -7769NK +0072FU -6968NK +0082FU -6867NK\n",
      "201 854934 2087 2087 +0046GI -3524UM +0045KE -3344GI +8464HI -4445GI +4645GI -6557NK +0033FU -2433UM +0044GI -3344UM +4544GI -5767NK +6667OU -0066FU +6466HI -0075KE\n",
      "202 10784 1507 1507 -3517UM +1917KY -6577NK +1615FU -7776NK +6676OU -3324GI +0072FU -2433GI +0082FU -3324GI +0071HI\n",
      "203 5049120 2175 2175 +4746FU -0057GI +6676OU -6577NK +7677OU -5766GI +7768OU -6667NG +6867OU -0055KE +5655FU -0083FU +8483RY -2324FU +6776OU\n",
      "204 13701280 1263 1263 -0083FU +8483RY -0082FU +8382RY -0081FU +8281RY -0072GI +8182RY -7281GI +8281RY -6577NK +0062FU -7776NK +6676OU -3324GI +0022FU -3122KI\n",
      "205 10794 2232 2232 +6676OU -6577NK +7677OU -5766GI +7768OU -6667NG +6859OU -2324FU +0066KA -6766NG +0045KE -6657NG +4533NK -3233OU +0045KE -3344OU +0055GI -4443OU +0033HI -4352OU\n",
      "206 530728 1149 1149 -5746GI +5546OU -0083FU +8483RY -0082FU +8382RY -0081FU +8281RY -3324GI +0062FU -2433GI +0071HI -3344GI +0033FU -4433GI\n",
      "207 70439 1930 1930 +5545OU -5746NG +4546OU -5455FU +0044KE -3344GI +2423TO -3223OU +0024FU -2324OU +0025FU -2433OU +0024GI -3343OU +6755KE -4455GI +5655FU -0054KE +5554FU -5162KI +0033HI -4354OU\n",
      "208 529439 1093 1093 -0088FU +2423TO -3223OU +0081HI -5746NG +4554OU -4645NG +0024FU -2324OU +0032FU -3132KI\n",
      "209 1332512 2551 2551 +4546OU -5455FU +0044KE -3222OU +0032FU -5141KI +3231TO -4131KI +0051HI -3344GI +2423TO -2223OU +5131RY -4435GI +4655OU -3544GI +5544OU -4243FU +4443OU -0042FU +3142RY -0031KE +4231RY\n",
      "210 13111200 926 926 -0083FU +8486HI -8384FU +0062FU -8485FU +0081HI -8586FU +0063KA -8687TO +0036KI -8786TO +0045GI -8685TO +6385UM -0084FU\n",
      "211 219306 2667 2667 +0053HI -5756NK +4656OU -4243FU +5351RY -3342GI +5657OU -4251GI +0033GI -3233OU +0045KE -3322OU +0033GI -2212OU +2423TO -1223OU +0024KI -2312OU\n",
      "212 1132043 991 991 -3223OU +1615FU -0083FU +0081HI -8384FU +8184RY -0059HI +0024FU -3324GI +0066KI -2435GI +4645OU -5949RY +4554OU -4943RY\n",
      "213 9963915 2688 2688 +0053HI -5756NK +4656OU -5455FU +6755KE -0052FU +0035KE -3435FU +0034GI -2334OU +0045GI -3423OU +0034GI -2312OU\n",
      "214 10380 958 958 -3324GI +0025FU -5747NK +4645OU -4738NK +0081HI -3829NK +8191RY -2919NK +0044GI -0043KY +0053GI -4344KY +5344GI -0035GI +0053GI -3544GI +5344GI\n"
     ]
    }
   ],
   "source": [
    "file_path = file_list_test[0]\n",
    "\n",
    "for kif in CSA.Parser.parse_file(file_path):\n",
    "    break\n",
    "    \n",
    "p = 0\n",
    "for i, (move, score, comment) in enumerate(zip(kif.moves, kif.scores, kif.comments)):\n",
    "    # 不正な指し手のある棋譜を除外\n",
    "    if not board.is_legal(move):\n",
    "        raise Exception()\n",
    "    hcpe = hcpes[p]\n",
    "    p += 1\n",
    "    # 局面はhcpに変換\n",
    "    board.to_hcp(hcpe[\"hcp\"])\n",
    "    # 16bitに収まるようにクリッピングする\n",
    "    eval = min(32767, max(score, -32767))\n",
    "    # 手番側の評価値にする\n",
    "    hcpe[\"eval\"] = eval if board.turn == BLACK else -eval\n",
    "    # 指し手の32bit数値を16bitに切り捨てる\n",
    "    hcpe[\"bestMove16\"] = move16(move)\n",
    "    # 勝敗結果\n",
    "    hcpe[\"gameResult\"] = kif.win\n",
    "    board.push(move)\n",
    "    print(i, move, score, comment)    "
   ]
  },
  {
   "cell_type": "code",
   "execution_count": 10,
   "id": "8e808a28",
   "metadata": {},
   "outputs": [
    {
     "data": {
      "text/plain": [
       "('%TORYO',\n",
       " 215,\n",
       " [0.0, 4027.0],\n",
       " 'lnsgkgsnl/1r5b1/ppppppppp/9/9/9/PPPPPPPPP/1B5R1/LNSGKGSNL b - 1')"
      ]
     },
     "execution_count": 10,
     "metadata": {},
     "output_type": "execute_result"
    }
   ],
   "source": [
    "kif.endgame, len(kif.moves), kif.ratings, kif.sfen"
   ]
  },
  {
   "cell_type": "code",
   "execution_count": 11,
   "id": "11d29b66",
   "metadata": {},
   "outputs": [
    {
     "data": {
      "image/svg+xml": [
       "<svg xmlns=\"http://www.w3.org/2000/svg\" version=\"1.1\" xmlns:xlink=\"http://www.w3.org/1999/xlink\" width=\"230.0\" height=\"192.0\" viewBox=\"0 0 230 192\"><defs><g id=\"black-pawn\"><text font-family=\"serif\" font-size=\"17\" text-anchor=\"middle\" x=\"10.5\" y=\"16.5\">&#27497;</text></g><g id=\"black-lance\"><text font-family=\"serif\" font-size=\"17\" text-anchor=\"middle\" x=\"10.5\" y=\"16.5\">&#39321;</text></g><g id=\"black-knight\"><text font-family=\"serif\" font-size=\"17\" text-anchor=\"middle\" x=\"10.5\" y=\"16.5\">&#26690;</text></g><g id=\"black-silver\"><text font-family=\"serif\" font-size=\"17\" text-anchor=\"middle\" x=\"10.5\" y=\"16.5\">&#37504;</text></g><g id=\"black-gold\"><text font-family=\"serif\" font-size=\"17\" text-anchor=\"middle\" x=\"10.5\" y=\"16.5\">&#37329;</text></g><g id=\"black-bishop\"><text font-family=\"serif\" font-size=\"17\" text-anchor=\"middle\" x=\"10.5\" y=\"16.5\">&#35282;</text></g><g id=\"black-rook\"><text font-family=\"serif\" font-size=\"17\" text-anchor=\"middle\" x=\"10.5\" y=\"16.5\">&#39131;</text></g><g id=\"black-king\"><text font-family=\"serif\" font-size=\"17\" text-anchor=\"middle\" x=\"10.5\" y=\"16.5\">&#29579;</text></g><g id=\"black-pro-pawn\"><text font-family=\"serif\" font-size=\"17\" text-anchor=\"middle\" x=\"10.5\" y=\"16.5\">&#12392;</text></g><g id=\"black-pro-lance\" transform=\"scale(1.0, 0.5)\"><text font-family=\"serif\" font-size=\"17\" text-anchor=\"middle\" x=\"10.5\" y=\"18\">&#25104;</text><text font-family=\"serif\" font-size=\"17\" text-anchor=\"middle\" x=\"10.5\" y=\"34\">&#39321;</text></g><g id=\"black-pro-knight\" transform=\"scale(1.0, 0.5)\"><text font-family=\"serif\" font-size=\"17\" text-anchor=\"middle\" x=\"10.5\" y=\"18\">&#25104;</text><text font-family=\"serif\" font-size=\"17\" text-anchor=\"middle\" x=\"10.5\" y=\"34\">&#26690;</text></g><g id=\"black-pro-silver\" transform=\"scale(1.0, 0.5)\"><text font-family=\"serif\" font-size=\"17\" text-anchor=\"middle\" x=\"10.5\" y=\"18\">&#25104;</text><text font-family=\"serif\" font-size=\"17\" text-anchor=\"middle\" x=\"10.5\" y=\"34\">&#37504;</text></g><g id=\"black-horse\"><text font-family=\"serif\" font-size=\"17\" text-anchor=\"middle\" x=\"10.5\" y=\"16.5\">&#39340;</text></g><g id=\"black-dragon\"><text font-family=\"serif\" font-size=\"17\" text-anchor=\"middle\" x=\"10.5\" y=\"16.5\">&#40845;</text></g><g id=\"white-pawn\" transform=\"rotate(180)\"><text font-family=\"serif\" font-size=\"17\" text-anchor=\"middle\" x=\"-10.5\" y=\"-3.5\">&#27497;</text></g><g id=\"white-lance\" transform=\"rotate(180)\"><text font-family=\"serif\" font-size=\"17\" text-anchor=\"middle\" x=\"-10.5\" y=\"-3.5\">&#39321;</text></g><g id=\"white-knight\" transform=\"rotate(180)\"><text font-family=\"serif\" font-size=\"17\" text-anchor=\"middle\" x=\"-10.5\" y=\"-3.5\">&#26690;</text></g><g id=\"white-silver\" transform=\"rotate(180)\"><text font-family=\"serif\" font-size=\"17\" text-anchor=\"middle\" x=\"-10.5\" y=\"-3.5\">&#37504;</text></g><g id=\"white-gold\" transform=\"rotate(180)\"><text font-family=\"serif\" font-size=\"17\" text-anchor=\"middle\" x=\"-10.5\" y=\"-3.5\">&#37329;</text></g><g id=\"white-bishop\" transform=\"rotate(180)\"><text font-family=\"serif\" font-size=\"17\" text-anchor=\"middle\" x=\"-10.5\" y=\"-3.5\">&#35282;</text></g><g id=\"white-rook\" transform=\"rotate(180)\"><text font-family=\"serif\" font-size=\"17\" text-anchor=\"middle\" x=\"-10.5\" y=\"-3.5\">&#39131;</text></g><g id=\"white-king\" transform=\"rotate(180)\"><text font-family=\"serif\" font-size=\"17\" text-anchor=\"middle\" x=\"-10.5\" y=\"-3.5\">&#29579;</text></g><g id=\"white-pro-pawn\" transform=\"rotate(180)\"><text font-family=\"serif\" font-size=\"17\" text-anchor=\"middle\" x=\"-10.5\" y=\"-3.5\">&#12392;</text></g><g id=\"white-pro-lance\" transform=\"scale(1.0, 0.5) rotate(180)\"><text font-family=\"serif\" font-size=\"17\" text-anchor=\"middle\" x=\"-10.5\" y=\"-22\">&#25104;</text><text font-family=\"serif\" font-size=\"17\" text-anchor=\"middle\" x=\"-10.5\" y=\"-6\">&#39321;</text></g><g id=\"white-pro-knight\" transform=\"scale(1.0, 0.5) rotate(180)\"><text font-family=\"serif\" font-size=\"17\" text-anchor=\"middle\" x=\"-10.5\" y=\"-22\">&#25104;</text><text font-family=\"serif\" font-size=\"17\" text-anchor=\"middle\" x=\"-10.5\" y=\"-6\">&#26690;</text></g><g id=\"white-pro-silver\" transform=\"scale(1.0, 0.5) rotate(180)\"><text font-family=\"serif\" font-size=\"17\" text-anchor=\"middle\" x=\"-10.5\" y=\"-22\">&#25104;</text><text font-family=\"serif\" font-size=\"17\" text-anchor=\"middle\" x=\"-10.5\" y=\"-6\">&#37504;</text></g><g id=\"white-horse\" transform=\"rotate(180)\"><text font-family=\"serif\" font-size=\"17\" text-anchor=\"middle\" x=\"-10.5\" y=\"-3.5\">&#39340;</text></g><g id=\"white-dragon\" transform=\"rotate(180)\"><text font-family=\"serif\" font-size=\"17\" text-anchor=\"middle\" x=\"-10.5\" y=\"-3.5\">&#40845;</text></g></defs><rect x=\"160.5\" y=\"70.5\" width=\"20\" height=\"20\" fill=\"#f6b94d\" /><g stroke=\"black\"><rect x=\"20\" y=\"10\" width=\"181\" height=\"181\" fill=\"none\" stroke-width=\"1.5\" /><line x1=\"20.5\" y1=\"30.5\" x2=\"200.5\" y2=\"30.5\" stroke-width=\"1.0\" /><line x1=\"20.5\" y1=\"50.5\" x2=\"200.5\" y2=\"50.5\" stroke-width=\"1.0\" /><line x1=\"20.5\" y1=\"70.5\" x2=\"200.5\" y2=\"70.5\" stroke-width=\"1.0\" /><line x1=\"20.5\" y1=\"90.5\" x2=\"200.5\" y2=\"90.5\" stroke-width=\"1.0\" /><line x1=\"20.5\" y1=\"110.5\" x2=\"200.5\" y2=\"110.5\" stroke-width=\"1.0\" /><line x1=\"20.5\" y1=\"130.5\" x2=\"200.5\" y2=\"130.5\" stroke-width=\"1.0\" /><line x1=\"20.5\" y1=\"150.5\" x2=\"200.5\" y2=\"150.5\" stroke-width=\"1.0\" /><line x1=\"20.5\" y1=\"170.5\" x2=\"200.5\" y2=\"170.5\" stroke-width=\"1.0\" /><line x1=\"40.5\" y1=\"10.5\" x2=\"40.5\" y2=\"190.5\" stroke-width=\"1.0\" /><line x1=\"60.5\" y1=\"10.5\" x2=\"60.5\" y2=\"190.5\" stroke-width=\"1.0\" /><line x1=\"80.5\" y1=\"10.5\" x2=\"80.5\" y2=\"190.5\" stroke-width=\"1.0\" /><line x1=\"100.5\" y1=\"10.5\" x2=\"100.5\" y2=\"190.5\" stroke-width=\"1.0\" /><line x1=\"120.5\" y1=\"10.5\" x2=\"120.5\" y2=\"190.5\" stroke-width=\"1.0\" /><line x1=\"140.5\" y1=\"10.5\" x2=\"140.5\" y2=\"190.5\" stroke-width=\"1.0\" /><line x1=\"160.5\" y1=\"10.5\" x2=\"160.5\" y2=\"190.5\" stroke-width=\"1.0\" /><line x1=\"180.5\" y1=\"10.5\" x2=\"180.5\" y2=\"190.5\" stroke-width=\"1.0\" /></g><g><text font-family=\"serif\" text-anchor=\"middle\" font-size=\"9\" x=\"30.5\" y=\"8\">9</text><text font-family=\"serif\" text-anchor=\"middle\" font-size=\"9\" x=\"50.5\" y=\"8\">8</text><text font-family=\"serif\" text-anchor=\"middle\" font-size=\"9\" x=\"70.5\" y=\"8\">7</text><text font-family=\"serif\" text-anchor=\"middle\" font-size=\"9\" x=\"90.5\" y=\"8\">6</text><text font-family=\"serif\" text-anchor=\"middle\" font-size=\"9\" x=\"110.5\" y=\"8\">5</text><text font-family=\"serif\" text-anchor=\"middle\" font-size=\"9\" x=\"130.5\" y=\"8\">4</text><text font-family=\"serif\" text-anchor=\"middle\" font-size=\"9\" x=\"150.5\" y=\"8\">3</text><text font-family=\"serif\" text-anchor=\"middle\" font-size=\"9\" x=\"170.5\" y=\"8\">2</text><text font-family=\"serif\" text-anchor=\"middle\" font-size=\"9\" x=\"190.5\" y=\"8\">1</text><text font-family=\"serif\" font-size=\"9\" x=\"203.5\" y=\"23\">&#19968;</text><text font-family=\"serif\" font-size=\"9\" x=\"203.5\" y=\"43\">&#20108;</text><text font-family=\"serif\" font-size=\"9\" x=\"203.5\" y=\"63\">&#19977;</text><text font-family=\"serif\" font-size=\"9\" x=\"203.5\" y=\"83\">&#22235;</text><text font-family=\"serif\" font-size=\"9\" x=\"203.5\" y=\"103\">&#20116;</text><text font-family=\"serif\" font-size=\"9\" x=\"203.5\" y=\"123\">&#20845;</text><text font-family=\"serif\" font-size=\"9\" x=\"203.5\" y=\"143\">&#19971;</text><text font-family=\"serif\" font-size=\"9\" x=\"203.5\" y=\"163\">&#20843;</text><text font-family=\"serif\" font-size=\"9\" x=\"203.5\" y=\"183\">&#20061;</text></g><use xlink:href=\"#white-lance\" x=\"180.5\" y=\"10.5\" /><use xlink:href=\"#white-pawn\" x=\"180.5\" y=\"90.5\" /><use xlink:href=\"#black-pawn\" x=\"180.5\" y=\"110.5\" /><use xlink:href=\"#black-lance\" x=\"180.5\" y=\"170.5\" /><use xlink:href=\"#white-king\" x=\"160.5\" y=\"50.5\" /><use xlink:href=\"#black-pawn\" x=\"160.5\" y=\"70.5\" /><use xlink:href=\"#white-gold\" x=\"140.5\" y=\"10.5\" /><use xlink:href=\"#white-silver\" x=\"140.5\" y=\"50.5\" /><use xlink:href=\"#white-pawn\" x=\"140.5\" y=\"70.5\" /><use xlink:href=\"#black-knight\" x=\"140.5\" y=\"170.5\" /><use xlink:href=\"#white-pawn\" x=\"120.5\" y=\"30.5\" /><use xlink:href=\"#black-king\" x=\"120.5\" y=\"110.5\" /><use xlink:href=\"#white-gold\" x=\"100.5\" y=\"10.5\" /><use xlink:href=\"#white-pawn\" x=\"100.5\" y=\"70.5\" /><use xlink:href=\"#black-pawn\" x=\"100.5\" y=\"110.5\" /><use xlink:href=\"#white-pro-knight\" x=\"100.5\" y=\"130.5\" /><use xlink:href=\"#white-pawn\" x=\"80.5\" y=\"70.5\" /><use xlink:href=\"#black-knight\" x=\"80.5\" y=\"130.5\" /><use xlink:href=\"#white-pawn\" x=\"60.5\" y=\"50.5\" /><use xlink:href=\"#black-pawn\" x=\"60.5\" y=\"130.5\" /><use xlink:href=\"#black-rook\" x=\"40.5\" y=\"70.5\" /><use xlink:href=\"#white-lance\" x=\"20.5\" y=\"10.5\" /><use xlink:href=\"#white-pawn\" x=\"20.5\" y=\"70.5\" /><use xlink:href=\"#black-pawn\" x=\"20.5\" y=\"110.5\" /><use xlink:href=\"#black-lance\" x=\"20.5\" y=\"170.5\" /><text font-family=\"serif\" font-size=\"14\" x=\"214\" y=\"190\">&#27497;</text><text font-family=\"serif\" font-size=\"14\" x=\"214\" y=\"176\">&#26690;</text><text font-family=\"serif\" font-size=\"14\" x=\"214\" y=\"162\">&#19977;</text><text font-family=\"serif\" font-size=\"14\" x=\"214\" y=\"148\">&#37504;</text><text font-family=\"serif\" font-size=\"14\" x=\"214\" y=\"134\">&#20108;</text><text font-family=\"serif\" font-size=\"14\" x=\"214\" y=\"120\">&#37329;</text><text font-family=\"serif\" font-size=\"14\" x=\"214\" y=\"106\">&#20108;</text><text font-family=\"serif\" font-size=\"14\" x=\"214\" y=\"92\">&#35282;</text><text font-family=\"serif\" font-size=\"14\" x=\"214\" y=\"78\">&#39131;</text><text font-family=\"serif\" font-size=\"14\" x=\"214\" y=\"50\">&#25163;</text><text font-family=\"serif\" font-size=\"14\" x=\"214\" y=\"36\">&#20808;</text><text font-family=\"serif\" font-size=\"14\" x=\"214\" y=\"22\">&#9751;</text><text font-family=\"serif\" font-size=\"14\" x=\"-16\" y=\"-10\" transform=\"rotate(180)\">&#20116;</text><text font-family=\"serif\" font-size=\"14\" x=\"-16\" y=\"-24\" transform=\"rotate(180)\">&#27497;</text><text font-family=\"serif\" font-size=\"14\" x=\"-16\" y=\"-52\" transform=\"rotate(180)\">&#25163;</text><text font-family=\"serif\" font-size=\"14\" x=\"-16\" y=\"-66\" transform=\"rotate(180)\">&#24460;</text><text font-family=\"serif\" font-size=\"14\" x=\"-16\" y=\"-80\" transform=\"rotate(180)\">&#9750;</text></svg>"
      ],
      "text/plain": [
       "'  9  8  7  6  5  4  3  2  1\n",
       "P1-KY *  *  * -KI * -KI * -KY\n",
       "P2 *  *  *  *  * -FU *  *  * \n",
       "P3 *  * -FU *  *  * -GI-OU * \n",
       "P4-FU+HI * -FU-FU * -FU+FU * \n",
       "P5 *  *  *  *  *  *  *  * -FU\n",
       "P6+FU *  *  * +FU+OU *  * +FU\n",
       "P7 *  * +FU+KE-NK *  *  *  * \n",
       "P8 *  *  *  *  *  *  *  *  * \n",
       "P9+KY *  *  *  *  * +KE * +KY\n",
       "P+00FU\n",
       "P+00KE\n",
       "P+00GI00GI00GI\n",
       "P+00KI00KI\n",
       "P+00KA00KA\n",
       "P+00HI\n",
       "P-00FU00FU00FU00FU00FU\n",
       "-"
      ]
     },
     "execution_count": 11,
     "metadata": {},
     "output_type": "execute_result"
    }
   ],
   "source": [
    "board"
   ]
  },
  {
   "cell_type": "code",
   "execution_count": 12,
   "id": "43e0bfdc",
   "metadata": {},
   "outputs": [
    {
     "data": {
      "text/plain": [
       "cshogi._cshogi.Board"
      ]
     },
     "execution_count": 12,
     "metadata": {},
     "output_type": "execute_result"
    }
   ],
   "source": [
    "type(board)"
   ]
  }
 ],
 "metadata": {
  "kernelspec": {
   "display_name": "Python 3 (ipykernel)",
   "language": "python",
   "name": "python3"
  },
  "language_info": {
   "codemirror_mode": {
    "name": "ipython",
    "version": 3
   },
   "file_extension": ".py",
   "mimetype": "text/x-python",
   "name": "python",
   "nbconvert_exporter": "python",
   "pygments_lexer": "ipython3",
   "version": "3.8.15"
  }
 },
 "nbformat": 4,
 "nbformat_minor": 5
}
