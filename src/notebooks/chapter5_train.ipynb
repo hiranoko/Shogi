{
 "cells": [
  {
   "cell_type": "code",
   "execution_count": 1,
   "id": "a92e1671",
   "metadata": {},
   "outputs": [],
   "source": [
    "import sys\n",
    "sys.path.insert(0, \"../pydlshogi2/\")\n",
    "\n",
    "import argparse\n",
    "import logging\n",
    "\n",
    "import torch\n",
    "import torch.optim as optim\n",
    "from dataloader import HcpeDataLoader\n",
    "from network.policy_value_resnet import PolicyValueNetwork"
   ]
  },
  {
   "cell_type": "code",
   "execution_count": 2,
   "id": "2b640853",
   "metadata": {},
   "outputs": [],
   "source": [
    "class args:\n",
    "    train_data = \"../../input/train.hcpe\"\n",
    "    test_data = \"../../input/test.hcpe\"\n",
    "    gpu = 0\n",
    "    epoch = 1\n",
    "    batchsize = b = 1\n",
    "    testbatchsize = 512\n",
    "    lr = 1e-3\n",
    "    checkpoint = \"checkpoints/checkpoint-{epoch:03}.pth\"\n",
    "    resume = False\n",
    "    eval_interval = 100\n",
    "    log = '../../input/log.txt'"
   ]
  },
  {
   "cell_type": "code",
   "execution_count": 3,
   "id": "98c2ab05",
   "metadata": {},
   "outputs": [],
   "source": [
    "# utils\n",
    "\n",
    "def accuracy(y, t):\n",
    "    \"\"\"方策の正解率\"\"\"\n",
    "    return (torch.max(y, 1)[1] == t).sum().item() / len(t)\n",
    "\n",
    "def binary_accuracy(y, t):\n",
    "    \"\"\"価値の正解率\"\"\"\n",
    "    pred = y >= 0\n",
    "    truth = t >= 0.5\n",
    "    return pred.eq(truth).sum().item() / len(t)\n",
    "\n",
    "def save_checkpoint():\n",
    "    \"\"\"チェックポイント保存\"\"\"\n",
    "    path = args.checkpoint.format(**{\"epoch\": epoch, \"step\": t})\n",
    "    logging.info(\"Saving the checkpoint to {}\".format(path))\n",
    "    checkpoint = {\n",
    "        \"epoch\": epoch,\n",
    "        \"t\": t,\n",
    "        \"model\": model.state_dict(),\n",
    "        \"optimizer\": optimizer.state_dict(),\n",
    "    }\n",
    "    torch.save(checkpoint, path)"
   ]
  },
  {
   "cell_type": "code",
   "execution_count": 4,
   "id": "e49f33d0",
   "metadata": {},
   "outputs": [],
   "source": [
    "if __name__ == '__main__':\n",
    "    \n",
    "    device = torch.device(f\"cuda:{args.gpu}\")\n",
    "\n",
    "    # モデル\n",
    "    model = PolicyValueNetwork()\n",
    "    model.to(device)\n",
    "\n",
    "    # オプティマイザ\n",
    "    optimizer = optim.SGD(model.parameters(), lr=args.lr, momentum=0.9, weight_decay=0.0001)\n",
    "\n",
    "    # 損失関数\n",
    "    cross_entropy_loss = torch.nn.CrossEntropyLoss()\n",
    "    bce_with_logits_loss = torch.nn.BCEWithLogitsLoss()\n",
    "\n",
    "    # Dataloader\n",
    "    train_dataloader = HcpeDataLoader(args.train_data, args.batchsize, device, shuffle=True)\n",
    "    test_dataloader = HcpeDataLoader(args.test_data, args.testbatchsize, device)\n",
    "    \n",
    "    epoch = t = 0"
   ]
  },
  {
   "cell_type": "markdown",
   "id": "f07c5a10",
   "metadata": {},
   "source": [
    "## check dataloader"
   ]
  },
  {
   "cell_type": "code",
   "execution_count": 5,
   "id": "a1755715",
   "metadata": {},
   "outputs": [],
   "source": [
    "x, move_label, result = train_dataloader.sample()"
   ]
  },
  {
   "cell_type": "code",
   "execution_count": 6,
   "id": "d40d811e",
   "metadata": {},
   "outputs": [
    {
     "data": {
      "text/plain": [
       "(torch.Size([1, 104, 9, 9]),\n",
       " tensor([839], device='cuda:0'),\n",
       " tensor([[0.]], device='cuda:0'))"
      ]
     },
     "execution_count": 6,
     "metadata": {},
     "output_type": "execute_result"
    }
   ],
   "source": [
    "x.size(), move_label, result"
   ]
  },
  {
   "cell_type": "code",
   "execution_count": 7,
   "id": "5226c391",
   "metadata": {},
   "outputs": [],
   "source": [
    "y1, y2 = model(x)"
   ]
  },
  {
   "cell_type": "code",
   "execution_count": 8,
   "id": "74110428",
   "metadata": {},
   "outputs": [
    {
     "data": {
      "text/plain": [
       "(torch.Size([1, 2187]),\n",
       " tensor([839], device='cuda:0'),\n",
       " tensor([[-0.2050]], device='cuda:0', grad_fn=<AddmmBackward>),\n",
       " tensor([[0.]], device='cuda:0'))"
      ]
     },
     "execution_count": 8,
     "metadata": {},
     "output_type": "execute_result"
    }
   ],
   "source": [
    "y1.size(), move_label, y2, result"
   ]
  },
  {
   "cell_type": "code",
   "execution_count": 9,
   "id": "74cc71ed",
   "metadata": {},
   "outputs": [
    {
     "data": {
      "text/plain": [
       "(tensor([[ 0.3082,  0.1503,  0.8668,  ...,  1.0607,  0.8628, -1.3890]],\n",
       "        device='cuda:0', grad_fn=<AddBackward0>),\n",
       " tensor([839], device='cuda:0'))"
      ]
     },
     "execution_count": 9,
     "metadata": {},
     "output_type": "execute_result"
    }
   ],
   "source": [
    "y1, move_label"
   ]
  },
  {
   "cell_type": "code",
   "execution_count": 10,
   "id": "2e09e897",
   "metadata": {},
   "outputs": [],
   "source": [
    "results = []\n",
    "for _ in range(100):\n",
    "    _, _, result = train_dataloader.sample()\n",
    "    results.append(float(result.cpu().numpy()))"
   ]
  },
  {
   "cell_type": "code",
   "execution_count": 11,
   "id": "33841c4a",
   "metadata": {
    "scrolled": true
   },
   "outputs": [
    {
     "data": {
      "text/plain": [
       "[1.0,\n",
       " 0.0,\n",
       " 1.0,\n",
       " 1.0,\n",
       " 0.0,\n",
       " 1.0,\n",
       " 1.0,\n",
       " 1.0,\n",
       " 0.0,\n",
       " 0.0,\n",
       " 1.0,\n",
       " 0.0,\n",
       " 1.0,\n",
       " 1.0,\n",
       " 1.0,\n",
       " 1.0,\n",
       " 1.0,\n",
       " 0.5,\n",
       " 0.0,\n",
       " 1.0,\n",
       " 1.0,\n",
       " 0.0,\n",
       " 1.0,\n",
       " 1.0,\n",
       " 1.0,\n",
       " 1.0,\n",
       " 0.0,\n",
       " 0.0,\n",
       " 0.0,\n",
       " 0.0,\n",
       " 1.0,\n",
       " 0.0,\n",
       " 1.0,\n",
       " 0.0,\n",
       " 0.0,\n",
       " 0.0,\n",
       " 0.0,\n",
       " 0.0,\n",
       " 1.0,\n",
       " 0.0,\n",
       " 0.0,\n",
       " 0.0,\n",
       " 0.0,\n",
       " 0.5,\n",
       " 0.5,\n",
       " 1.0,\n",
       " 0.0,\n",
       " 1.0,\n",
       " 0.0,\n",
       " 1.0,\n",
       " 1.0,\n",
       " 0.0,\n",
       " 1.0,\n",
       " 1.0,\n",
       " 0.0,\n",
       " 1.0,\n",
       " 0.5,\n",
       " 0.0,\n",
       " 0.0,\n",
       " 0.0,\n",
       " 1.0,\n",
       " 0.0,\n",
       " 1.0,\n",
       " 1.0,\n",
       " 1.0,\n",
       " 0.0,\n",
       " 0.0,\n",
       " 0.0,\n",
       " 0.5,\n",
       " 0.0,\n",
       " 1.0,\n",
       " 1.0,\n",
       " 1.0,\n",
       " 0.0,\n",
       " 1.0,\n",
       " 0.0,\n",
       " 1.0,\n",
       " 1.0,\n",
       " 0.0,\n",
       " 0.0,\n",
       " 1.0,\n",
       " 0.0,\n",
       " 1.0,\n",
       " 1.0,\n",
       " 1.0,\n",
       " 1.0,\n",
       " 1.0,\n",
       " 1.0,\n",
       " 0.0,\n",
       " 0.0,\n",
       " 0.0,\n",
       " 1.0,\n",
       " 0.0,\n",
       " 0.0,\n",
       " 1.0,\n",
       " 1.0,\n",
       " 1.0,\n",
       " 1.0,\n",
       " 1.0,\n",
       " 0.0]"
      ]
     },
     "execution_count": 11,
     "metadata": {},
     "output_type": "execute_result"
    }
   ],
   "source": [
    "results"
   ]
  },
  {
   "cell_type": "code",
   "execution_count": 12,
   "id": "5d1834ff",
   "metadata": {},
   "outputs": [],
   "source": [
    "torch.onnx.export(model, x, \"../../output/network.onnx\")"
   ]
  }
 ],
 "metadata": {
  "kernelspec": {
   "display_name": "Python 3 (ipykernel)",
   "language": "python",
   "name": "python3"
  },
  "language_info": {
   "codemirror_mode": {
    "name": "ipython",
    "version": 3
   },
   "file_extension": ".py",
   "mimetype": "text/x-python",
   "name": "python",
   "nbconvert_exporter": "python",
   "pygments_lexer": "ipython3",
   "version": "3.8.15"
  }
 },
 "nbformat": 4,
 "nbformat_minor": 5
}
